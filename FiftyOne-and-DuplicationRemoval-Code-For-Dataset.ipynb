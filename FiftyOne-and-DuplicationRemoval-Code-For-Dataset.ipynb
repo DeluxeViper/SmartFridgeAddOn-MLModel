{
  "nbformat": 4,
  "nbformat_minor": 0,
  "metadata": {
    "colab": {
      "provenance": [],
      "authorship_tag": "ABX9TyMmjezRexYrkWAhYH2xfegm",
      "include_colab_link": true
    },
    "kernelspec": {
      "name": "python3",
      "display_name": "Python 3"
    },
    "language_info": {
      "name": "python"
    }
  },
  "cells": [
    {
      "cell_type": "markdown",
      "metadata": {
        "id": "view-in-github",
        "colab_type": "text"
      },
      "source": [
        "<a href=\"https://colab.research.google.com/github/DeluxeViper/SmartFridgeAddOn-MLModel/blob/main/FiftyOne-and-DuplicationRemoval-Code-For-Dataset.ipynb\" target=\"_parent\"><img src=\"https://colab.research.google.com/assets/colab-badge.svg\" alt=\"Open In Colab\"/></a>"
      ]
    },
    {
      "cell_type": "code",
      "source": [
        "from google.colab import drive\n",
        "drive.mount('/content/gdrive')"
      ],
      "metadata": {
        "colab": {
          "base_uri": "https://localhost:8080/"
        },
        "id": "bGVDBCevb_fp",
        "outputId": "f454be99-ba40-4e85-f817-89fbb9a02d86"
      },
      "execution_count": null,
      "outputs": [
        {
          "output_type": "stream",
          "name": "stdout",
          "text": [
            "Mounted at /content/gdrive\n"
          ]
        }
      ]
    },
    {
      "cell_type": "code",
      "source": [
        "# Download roboflow dataset\n",
        "!pip install roboflow\n",
        "\n",
        "from roboflow import Roboflow\n",
        "rf = Roboflow(api_key=\"jLi1pe42ogpV2Fkvtsno\")\n",
        "project = rf.workspace(\"deluxeviper\").project(\"peppers-j4tgi\")\n",
        "dataset = project.version(1).download(\"coco\")"
      ],
      "metadata": {
        "colab": {
          "base_uri": "https://localhost:8080/"
        },
        "id": "ClGatKXHcGDD",
        "outputId": "04ce8c3b-a6ae-46dc-a56f-069e24d9622f"
      },
      "execution_count": 12,
      "outputs": [
        {
          "output_type": "stream",
          "name": "stdout",
          "text": [
            "Looking in indexes: https://pypi.org/simple, https://us-python.pkg.dev/colab-wheels/public/simple/\n",
            "Requirement already satisfied: roboflow in /usr/local/lib/python3.9/dist-packages (1.0.1)\n",
            "Requirement already satisfied: Pillow>=7.1.2 in /usr/local/lib/python3.9/dist-packages (from roboflow) (9.4.0)\n",
            "Requirement already satisfied: six in /usr/local/lib/python3.9/dist-packages (from roboflow) (1.16.0)\n",
            "Requirement already satisfied: cycler==0.10.0 in /usr/local/lib/python3.9/dist-packages (from roboflow) (0.10.0)\n",
            "Requirement already satisfied: kiwisolver>=1.3.1 in /usr/local/lib/python3.9/dist-packages (from roboflow) (1.4.4)\n",
            "Requirement already satisfied: opencv-python>=4.1.2 in /usr/local/lib/python3.9/dist-packages (from roboflow) (4.6.0.66)\n",
            "Requirement already satisfied: numpy>=1.18.5 in /usr/local/lib/python3.9/dist-packages (from roboflow) (1.24.2)\n",
            "Requirement already satisfied: requests in /usr/local/lib/python3.9/dist-packages (from roboflow) (2.25.1)\n",
            "Requirement already satisfied: python-dateutil in /usr/local/lib/python3.9/dist-packages (from roboflow) (2.8.2)\n",
            "Requirement already satisfied: PyYAML>=5.3.1 in /usr/local/lib/python3.9/dist-packages (from roboflow) (6.0)\n",
            "Requirement already satisfied: requests-toolbelt in /usr/local/lib/python3.9/dist-packages (from roboflow) (0.10.1)\n",
            "Requirement already satisfied: certifi==2022.12.7 in /usr/local/lib/python3.9/dist-packages (from roboflow) (2022.12.7)\n",
            "Requirement already satisfied: pyparsing==2.4.7 in /usr/local/lib/python3.9/dist-packages (from roboflow) (2.4.7)\n",
            "Requirement already satisfied: urllib3>=1.26.6 in /usr/local/lib/python3.9/dist-packages (from roboflow) (1.26.15)\n",
            "Requirement already satisfied: chardet==4.0.0 in /usr/local/lib/python3.9/dist-packages (from roboflow) (4.0.0)\n",
            "Requirement already satisfied: matplotlib in /usr/local/lib/python3.9/dist-packages (from roboflow) (3.5.3)\n",
            "Requirement already satisfied: idna==2.10 in /usr/local/lib/python3.9/dist-packages (from roboflow) (2.10)\n",
            "Requirement already satisfied: python-dotenv in /usr/local/lib/python3.9/dist-packages (from roboflow) (1.0.0)\n",
            "Requirement already satisfied: wget in /usr/local/lib/python3.9/dist-packages (from roboflow) (3.2)\n",
            "Requirement already satisfied: tqdm>=4.41.0 in /usr/local/lib/python3.9/dist-packages (from roboflow) (4.65.0)\n",
            "Requirement already satisfied: fonttools>=4.22.0 in /usr/local/lib/python3.9/dist-packages (from matplotlib->roboflow) (4.39.0)\n",
            "Requirement already satisfied: packaging>=20.0 in /usr/local/lib/python3.9/dist-packages (from matplotlib->roboflow) (23.0)\n",
            "loading Roboflow workspace...\n",
            "loading Roboflow project...\n",
            "Downloading Dataset Version Zip in peppers-1 to coco: 91% [37363712 / 40797128] bytes"
          ]
        }
      ]
    },
    {
      "cell_type": "code",
      "source": [
        "# Delete datasets\n",
        "!pip install fiftyone"
      ],
      "metadata": {
        "colab": {
          "base_uri": "https://localhost:8080/"
        },
        "id": "N76VOCB0lsYU",
        "outputId": "ecbefb04-a510-4b17-fe2a-90f38e322c24"
      },
      "execution_count": null,
      "outputs": [
        {
          "output_type": "stream",
          "name": "stdout",
          "text": [
            "Looking in indexes: https://pypi.org/simple, https://us-python.pkg.dev/colab-wheels/public/simple/\n",
            "Collecting fiftyone\n",
            "  Downloading fiftyone-0.19.1-py3-none-any.whl (3.7 MB)\n",
            "\u001b[2K     \u001b[90m━━━━━━━━━━━━━━━━━━━━━━━━━━━━━━━━━━━━━━━━\u001b[0m \u001b[32m3.7/3.7 MB\u001b[0m \u001b[31m33.5 MB/s\u001b[0m eta \u001b[36m0:00:00\u001b[0m\n",
            "\u001b[?25hCollecting sse-starlette<1,>=0.10.3\n",
            "  Downloading sse_starlette-0.10.3-py3-none-any.whl (8.0 kB)\n",
            "Collecting aiofiles\n",
            "  Downloading aiofiles-23.1.0-py3-none-any.whl (14 kB)\n",
            "Collecting eventlet\n",
            "  Downloading eventlet-0.33.3-py2.py3-none-any.whl (226 kB)\n",
            "\u001b[2K     \u001b[90m━━━━━━━━━━━━━━━━━━━━━━━━━━━━━━━━━━━━━━\u001b[0m \u001b[32m226.8/226.8 KB\u001b[0m \u001b[31m22.5 MB/s\u001b[0m eta \u001b[36m0:00:00\u001b[0m\n",
            "\u001b[?25hRequirement already satisfied: Jinja2>=3 in /usr/local/lib/python3.9/dist-packages (from fiftyone) (3.1.2)\n",
            "Requirement already satisfied: pymongo>=3.12 in /usr/local/lib/python3.9/dist-packages (from fiftyone) (4.3.3)\n",
            "Collecting kaleido\n",
            "  Downloading kaleido-0.2.1-py2.py3-none-manylinux1_x86_64.whl (79.9 MB)\n",
            "\u001b[2K     \u001b[90m━━━━━━━━━━━━━━━━━━━━━━━━━━━━━━━━━━━━━━━━\u001b[0m \u001b[32m79.9/79.9 MB\u001b[0m \u001b[31m11.6 MB/s\u001b[0m eta \u001b[36m0:00:00\u001b[0m\n",
            "\u001b[?25hRequirement already satisfied: matplotlib in /usr/local/lib/python3.9/dist-packages (from fiftyone) (3.5.3)\n",
            "Requirement already satisfied: packaging in /usr/local/lib/python3.9/dist-packages (from fiftyone) (23.0)\n",
            "Requirement already satisfied: cachetools in /usr/local/lib/python3.9/dist-packages (from fiftyone) (5.3.0)\n",
            "Collecting strawberry-graphql==0.138.1\n",
            "  Downloading strawberry_graphql-0.138.1-py3-none-any.whl (192 kB)\n",
            "\u001b[2K     \u001b[90m━━━━━━━━━━━━━━━━━━━━━━━━━━━━━━━━━━━━━━\u001b[0m \u001b[32m192.5/192.5 KB\u001b[0m \u001b[31m19.0 MB/s\u001b[0m eta \u001b[36m0:00:00\u001b[0m\n",
            "\u001b[?25hCollecting universal-analytics-python3<2,>=1.0.1\n",
            "  Downloading universal_analytics_python3-1.1.1-py3-none-any.whl (10 kB)\n",
            "Collecting xmltodict\n",
            "  Downloading xmltodict-0.13.0-py2.py3-none-any.whl (10.0 kB)\n",
            "Requirement already satisfied: psutil in /usr/local/lib/python3.9/dist-packages (from fiftyone) (5.4.8)\n",
            "Requirement already satisfied: future in /usr/local/lib/python3.9/dist-packages (from fiftyone) (0.16.0)\n",
            "Collecting motor>=2.5\n",
            "  Downloading motor-3.1.1-py3-none-any.whl (56 kB)\n",
            "\u001b[2K     \u001b[90m━━━━━━━━━━━━━━━━━━━━━━━━━━━━━━━━━━━━━━━━\u001b[0m \u001b[32m56.2/56.2 KB\u001b[0m \u001b[31m6.6 MB/s\u001b[0m eta \u001b[36m0:00:00\u001b[0m\n",
            "\u001b[?25hCollecting voxel51-eta<0.9,>=0.8.3\n",
            "  Downloading voxel51_eta-0.8.3-py2.py3-none-any.whl (564 kB)\n",
            "\u001b[2K     \u001b[90m━━━━━━━━━━━━━━━━━━━━━━━━━━━━━━━━━━━━━━\u001b[0m \u001b[32m564.4/564.4 KB\u001b[0m \u001b[31m38.9 MB/s\u001b[0m eta \u001b[36m0:00:00\u001b[0m\n",
            "\u001b[?25hRequirement already satisfied: scikit-learn in /usr/local/lib/python3.9/dist-packages (from fiftyone) (1.2.2)\n",
            "Collecting dacite<1.8.0,>=1.6.0\n",
            "  Downloading dacite-1.7.0-py3-none-any.whl (12 kB)\n",
            "Requirement already satisfied: plotly>=4.14 in /usr/local/lib/python3.9/dist-packages (from fiftyone) (5.5.0)\n",
            "Requirement already satisfied: PyYAML in /usr/local/lib/python3.9/dist-packages (from fiftyone) (6.0)\n",
            "Requirement already satisfied: Pillow>=6.2 in /usr/local/lib/python3.9/dist-packages (from fiftyone) (8.4.0)\n",
            "Collecting Deprecated\n",
            "  Downloading Deprecated-1.2.13-py2.py3-none-any.whl (9.6 kB)\n",
            "Collecting sseclient-py<2,>=1.7.2\n",
            "  Downloading sseclient_py-1.7.2-py2.py3-none-any.whl (8.4 kB)\n",
            "Requirement already satisfied: setuptools in /usr/local/lib/python3.9/dist-packages (from fiftyone) (63.4.3)\n",
            "Requirement already satisfied: pandas in /usr/local/lib/python3.9/dist-packages (from fiftyone) (1.4.4)\n",
            "Collecting fiftyone-db<0.5,>=0.4\n",
            "  Downloading fiftyone_db-0.4.0-py3-none-manylinux1_x86_64.whl (37.8 MB)\n",
            "\u001b[2K     \u001b[90m━━━━━━━━━━━━━━━━━━━━━━━━━━━━━━━━━━━━━━━━\u001b[0m \u001b[32m37.8/37.8 MB\u001b[0m \u001b[31m11.4 MB/s\u001b[0m eta \u001b[36m0:00:00\u001b[0m\n",
            "\u001b[?25hCollecting mongoengine==0.24.2\n",
            "  Downloading mongoengine-0.24.2-py3-none-any.whl (108 kB)\n",
            "\u001b[2K     \u001b[90m━━━━━━━━━━━━━━━━━━━━━━━━━━━━━━━━━━━━━━━\u001b[0m \u001b[32m108.9/108.9 KB\u001b[0m \u001b[31m5.3 MB/s\u001b[0m eta \u001b[36m0:00:00\u001b[0m\n",
            "\u001b[?25hRequirement already satisfied: tabulate in /usr/local/lib/python3.9/dist-packages (from fiftyone) (0.8.10)\n",
            "Collecting ndjson\n",
            "  Downloading ndjson-0.3.1-py2.py3-none-any.whl (5.3 kB)\n",
            "Requirement already satisfied: numpy in /usr/local/lib/python3.9/dist-packages (from fiftyone) (1.22.4)\n",
            "Requirement already satisfied: opencv-python-headless in /usr/local/lib/python3.9/dist-packages (from fiftyone) (4.7.0.72)\n",
            "Collecting retrying\n",
            "  Downloading retrying-1.3.4-py3-none-any.whl (11 kB)\n",
            "Requirement already satisfied: pytz in /usr/local/lib/python3.9/dist-packages (from fiftyone) (2022.7.1)\n",
            "Collecting boto3\n",
            "  Downloading boto3-1.26.92-py3-none-any.whl (134 kB)\n",
            "\u001b[2K     \u001b[90m━━━━━━━━━━━━━━━━━━━━━━━━━━━━━━━━━━━━━━\u001b[0m \u001b[32m134.7/134.7 KB\u001b[0m \u001b[31m16.4 MB/s\u001b[0m eta \u001b[36m0:00:00\u001b[0m\n",
            "\u001b[?25hCollecting starlette==0.20.4\n",
            "  Downloading starlette-0.20.4-py3-none-any.whl (63 kB)\n",
            "\u001b[2K     \u001b[90m━━━━━━━━━━━━━━━━━━━━━━━━━━━━━━━━━━━━━━━━\u001b[0m \u001b[32m63.6/63.6 KB\u001b[0m \u001b[31m7.0 MB/s\u001b[0m eta \u001b[36m0:00:00\u001b[0m\n",
            "\u001b[?25hCollecting fiftyone-brain<0.11,>=0.10\n",
            "  Downloading fiftyone_brain-0.10.0-py3-none-any.whl (51 kB)\n",
            "\u001b[2K     \u001b[90m━━━━━━━━━━━━━━━━━━━━━━━━━━━━━━━━━━━━━━━━\u001b[0m \u001b[32m51.8/51.8 KB\u001b[0m \u001b[31m5.4 MB/s\u001b[0m eta \u001b[36m0:00:00\u001b[0m\n",
            "\u001b[?25hCollecting argcomplete\n",
            "  Downloading argcomplete-2.1.1-py3-none-any.whl (37 kB)\n",
            "Collecting pprintpp\n",
            "  Downloading pprintpp-0.4.0-py2.py3-none-any.whl (16 kB)\n",
            "Requirement already satisfied: scikit-image in /usr/local/lib/python3.9/dist-packages (from fiftyone) (0.19.3)\n",
            "Collecting hypercorn>=0.13.2\n",
            "  Downloading Hypercorn-0.14.3-py3-none-any.whl (57 kB)\n",
            "\u001b[2K     \u001b[90m━━━━━━━━━━━━━━━━━━━━━━━━━━━━━━━━━━━━━━━━\u001b[0m \u001b[32m57.9/57.9 KB\u001b[0m \u001b[31m5.2 MB/s\u001b[0m eta \u001b[36m0:00:00\u001b[0m\n",
            "\u001b[?25hRequirement already satisfied: typing-extensions>=3.10.0 in /usr/local/lib/python3.9/dist-packages (from starlette==0.20.4->fiftyone) (4.5.0)\n",
            "Collecting anyio<5,>=3.4.0\n",
            "  Downloading anyio-3.6.2-py3-none-any.whl (80 kB)\n",
            "\u001b[2K     \u001b[90m━━━━━━━━━━━━━━━━━━━━━━━━━━━━━━━━━━━━━━━━\u001b[0m \u001b[32m80.6/80.6 KB\u001b[0m \u001b[31m9.7 MB/s\u001b[0m eta \u001b[36m0:00:00\u001b[0m\n",
            "\u001b[?25hCollecting graphql-core<3.3.0,>=3.2.0\n",
            "  Downloading graphql_core-3.2.3-py3-none-any.whl (202 kB)\n",
            "\u001b[2K     \u001b[90m━━━━━━━━━━━━━━━━━━━━━━━━━━━━━━━━━━━━━━\u001b[0m \u001b[32m202.9/202.9 KB\u001b[0m \u001b[31m23.0 MB/s\u001b[0m eta \u001b[36m0:00:00\u001b[0m\n",
            "\u001b[?25hRequirement already satisfied: python-dateutil<3.0.0,>=2.7.0 in /usr/local/lib/python3.9/dist-packages (from strawberry-graphql==0.138.1->fiftyone) (2.8.2)\n",
            "Requirement already satisfied: scipy>=1.2.0 in /usr/local/lib/python3.9/dist-packages (from fiftyone-brain<0.11,>=0.10->fiftyone) (1.10.1)\n",
            "Collecting wsproto>=0.14.0\n",
            "  Downloading wsproto-1.2.0-py3-none-any.whl (24 kB)\n",
            "Requirement already satisfied: toml in /usr/local/lib/python3.9/dist-packages (from hypercorn>=0.13.2->fiftyone) (0.10.2)\n",
            "Collecting priority\n",
            "  Downloading priority-2.0.0-py3-none-any.whl (8.9 kB)\n",
            "Collecting h2>=3.1.0\n",
            "  Downloading h2-4.1.0-py3-none-any.whl (57 kB)\n",
            "\u001b[2K     \u001b[90m━━━━━━━━━━━━━━━━━━━━━━━━━━━━━━━━━━━━━━━━\u001b[0m \u001b[32m57.5/57.5 KB\u001b[0m \u001b[31m7.3 MB/s\u001b[0m eta \u001b[36m0:00:00\u001b[0m\n",
            "\u001b[?25hCollecting h11\n",
            "  Downloading h11-0.14.0-py3-none-any.whl (58 kB)\n",
            "\u001b[2K     \u001b[90m━━━━━━━━━━━━━━━━━━━━━━━━━━━━━━━━━━━━━━━━\u001b[0m \u001b[32m58.3/58.3 KB\u001b[0m \u001b[31m3.8 MB/s\u001b[0m eta \u001b[36m0:00:00\u001b[0m\n",
            "\u001b[?25hRequirement already satisfied: MarkupSafe>=2.0 in /usr/local/lib/python3.9/dist-packages (from Jinja2>=3->fiftyone) (2.1.2)\n",
            "Requirement already satisfied: six in /usr/local/lib/python3.9/dist-packages (from plotly>=4.14->fiftyone) (1.15.0)\n",
            "Requirement already satisfied: tenacity>=6.2.0 in /usr/local/lib/python3.9/dist-packages (from plotly>=4.14->fiftyone) (8.2.2)\n",
            "Requirement already satisfied: dnspython<3.0.0,>=1.16.0 in /usr/local/lib/python3.9/dist-packages (from pymongo>=3.12->fiftyone) (2.3.0)\n",
            "Collecting httpx>=0.10.0\n",
            "  Downloading httpx-0.23.3-py3-none-any.whl (71 kB)\n",
            "\u001b[2K     \u001b[90m━━━━━━━━━━━━━━━━━━━━━━━━━━━━━━━━━━━━━━━━\u001b[0m \u001b[32m71.5/71.5 KB\u001b[0m \u001b[31m9.1 MB/s\u001b[0m eta \u001b[36m0:00:00\u001b[0m\n",
            "\u001b[?25hRequirement already satisfied: sortedcontainers in /usr/local/lib/python3.9/dist-packages (from voxel51-eta<0.9,>=0.8.3->fiftyone) (2.4.0)\n",
            "Collecting patool\n",
            "  Downloading patool-1.12-py2.py3-none-any.whl (77 kB)\n",
            "\u001b[2K     \u001b[90m━━━━━━━━━━━━━━━━━━━━━━━━━━━━━━━━━━━━━━━━\u001b[0m \u001b[32m77.5/77.5 KB\u001b[0m \u001b[31m9.8 MB/s\u001b[0m eta \u001b[36m0:00:00\u001b[0m\n",
            "\u001b[?25hCollecting dill\n",
            "  Downloading dill-0.3.6-py3-none-any.whl (110 kB)\n",
            "\u001b[2K     \u001b[90m━━━━━━━━━━━━━━━━━━━━━━━━━━━━━━━━━━━━━━\u001b[0m \u001b[32m110.5/110.5 KB\u001b[0m \u001b[31m12.0 MB/s\u001b[0m eta \u001b[36m0:00:00\u001b[0m\n",
            "\u001b[?25hRequirement already satisfied: glob2 in /usr/local/lib/python3.9/dist-packages (from voxel51-eta<0.9,>=0.8.3->fiftyone) (0.7)\n",
            "Requirement already satisfied: tzlocal in /usr/local/lib/python3.9/dist-packages (from voxel51-eta<0.9,>=0.8.3->fiftyone) (4.2)\n",
            "Requirement already satisfied: requests in /usr/local/lib/python3.9/dist-packages (from voxel51-eta<0.9,>=0.8.3->fiftyone) (2.25.1)\n",
            "Requirement already satisfied: urllib3 in /usr/local/lib/python3.9/dist-packages (from voxel51-eta<0.9,>=0.8.3->fiftyone) (1.26.15)\n",
            "Collecting jmespath<2.0.0,>=0.7.1\n",
            "  Downloading jmespath-1.0.1-py3-none-any.whl (20 kB)\n",
            "Collecting s3transfer<0.7.0,>=0.6.0\n",
            "  Downloading s3transfer-0.6.0-py3-none-any.whl (79 kB)\n",
            "\u001b[2K     \u001b[90m━━━━━━━━━━━━━━━━━━━━━━━━━━━━━━━━━━━━━━━━\u001b[0m \u001b[32m79.6/79.6 KB\u001b[0m \u001b[31m10.2 MB/s\u001b[0m eta \u001b[36m0:00:00\u001b[0m\n",
            "\u001b[?25hCollecting botocore<1.30.0,>=1.29.92\n",
            "  Downloading botocore-1.29.92-py3-none-any.whl (10.5 MB)\n",
            "\u001b[2K     \u001b[90m━━━━━━━━━━━━━━━━━━━━━━━━━━━━━━━━━━━━━━━━\u001b[0m \u001b[32m10.5/10.5 MB\u001b[0m \u001b[31m84.3 MB/s\u001b[0m eta \u001b[36m0:00:00\u001b[0m\n",
            "\u001b[?25hRequirement already satisfied: wrapt<2,>=1.10 in /usr/local/lib/python3.9/dist-packages (from Deprecated->fiftyone) (1.15.0)\n",
            "Requirement already satisfied: greenlet>=0.3 in /usr/local/lib/python3.9/dist-packages (from eventlet->fiftyone) (2.0.2)\n",
            "Requirement already satisfied: pyparsing>=2.2.1 in /usr/local/lib/python3.9/dist-packages (from matplotlib->fiftyone) (2.4.7)\n",
            "Requirement already satisfied: fonttools>=4.22.0 in /usr/local/lib/python3.9/dist-packages (from matplotlib->fiftyone) (4.39.0)\n",
            "Requirement already satisfied: cycler>=0.10 in /usr/local/lib/python3.9/dist-packages (from matplotlib->fiftyone) (0.10.0)\n",
            "Requirement already satisfied: kiwisolver>=1.0.1 in /usr/local/lib/python3.9/dist-packages (from matplotlib->fiftyone) (1.4.4)\n",
            "Requirement already satisfied: networkx>=2.2 in /usr/local/lib/python3.9/dist-packages (from scikit-image->fiftyone) (3.0)\n",
            "Requirement already satisfied: PyWavelets>=1.1.1 in /usr/local/lib/python3.9/dist-packages (from scikit-image->fiftyone) (1.4.1)\n",
            "Requirement already satisfied: imageio>=2.4.1 in /usr/local/lib/python3.9/dist-packages (from scikit-image->fiftyone) (2.9.0)\n",
            "Requirement already satisfied: tifffile>=2019.7.26 in /usr/local/lib/python3.9/dist-packages (from scikit-image->fiftyone) (2023.2.28)\n",
            "Requirement already satisfied: joblib>=1.1.1 in /usr/local/lib/python3.9/dist-packages (from scikit-learn->fiftyone) (1.1.1)\n",
            "Requirement already satisfied: threadpoolctl>=2.0.0 in /usr/local/lib/python3.9/dist-packages (from scikit-learn->fiftyone) (3.1.0)\n",
            "Collecting sniffio>=1.1\n",
            "  Downloading sniffio-1.3.0-py3-none-any.whl (10 kB)\n",
            "Requirement already satisfied: idna>=2.8 in /usr/local/lib/python3.9/dist-packages (from anyio<5,>=3.4.0->starlette==0.20.4->fiftyone) (2.10)\n",
            "Collecting hpack<5,>=4.0\n",
            "  Downloading hpack-4.0.0-py3-none-any.whl (32 kB)\n",
            "Collecting hyperframe<7,>=6.0\n",
            "  Downloading hyperframe-6.0.1-py3-none-any.whl (12 kB)\n",
            "Collecting rfc3986[idna2008]<2,>=1.3\n",
            "  Downloading rfc3986-1.5.0-py2.py3-none-any.whl (31 kB)\n",
            "Collecting httpcore<0.17.0,>=0.15.0\n",
            "  Downloading httpcore-0.16.3-py3-none-any.whl (69 kB)\n",
            "\u001b[2K     \u001b[90m━━━━━━━━━━━━━━━━━━━━━━━━━━━━━━━━━━━━━━━━\u001b[0m \u001b[32m69.6/69.6 KB\u001b[0m \u001b[31m8.8 MB/s\u001b[0m eta \u001b[36m0:00:00\u001b[0m\n",
            "\u001b[?25hRequirement already satisfied: certifi in /usr/local/lib/python3.9/dist-packages (from httpx>=0.10.0->universal-analytics-python3<2,>=1.0.1->fiftyone) (2022.12.7)\n",
            "Requirement already satisfied: chardet<5,>=3.0.2 in /usr/local/lib/python3.9/dist-packages (from requests->voxel51-eta<0.9,>=0.8.3->fiftyone) (4.0.0)\n",
            "Requirement already satisfied: pytz-deprecation-shim in /usr/local/lib/python3.9/dist-packages (from tzlocal->voxel51-eta<0.9,>=0.8.3->fiftyone) (0.1.0.post0)\n",
            "Requirement already satisfied: tzdata in /usr/local/lib/python3.9/dist-packages (from pytz-deprecation-shim->tzlocal->voxel51-eta<0.9,>=0.8.3->fiftyone) (2022.7)\n",
            "Installing collected packages: sseclient-py, rfc3986, pprintpp, patool, ndjson, kaleido, xmltodict, sniffio, retrying, priority, jmespath, hyperframe, hpack, h11, graphql-core, fiftyone-db, eventlet, dill, Deprecated, dacite, argcomplete, aiofiles, wsproto, strawberry-graphql, motor, mongoengine, h2, botocore, anyio, voxel51-eta, starlette, s3transfer, hypercorn, httpcore, fiftyone-brain, sse-starlette, httpx, boto3, universal-analytics-python3, fiftyone\n",
            "Successfully installed Deprecated-1.2.13 aiofiles-23.1.0 anyio-3.6.2 argcomplete-2.1.1 boto3-1.26.92 botocore-1.29.92 dacite-1.7.0 dill-0.3.6 eventlet-0.33.3 fiftyone-0.19.1 fiftyone-brain-0.10.0 fiftyone-db-0.4.0 graphql-core-3.2.3 h11-0.14.0 h2-4.1.0 hpack-4.0.0 httpcore-0.16.3 httpx-0.23.3 hypercorn-0.14.3 hyperframe-6.0.1 jmespath-1.0.1 kaleido-0.2.1 mongoengine-0.24.2 motor-3.1.1 ndjson-0.3.1 patool-1.12 pprintpp-0.4.0 priority-2.0.0 retrying-1.3.4 rfc3986-1.5.0 s3transfer-0.6.0 sniffio-1.3.0 sse-starlette-0.10.3 sseclient-py-1.7.2 starlette-0.20.4 strawberry-graphql-0.138.1 universal-analytics-python3-1.1.1 voxel51-eta-0.8.3 wsproto-1.2.0 xmltodict-0.13.0\n",
            "Migrating database to v0.19.1\n"
          ]
        },
        {
          "output_type": "stream",
          "name": "stderr",
          "text": [
            "INFO:fiftyone.migrations.runner:Migrating database to v0.19.1\n"
          ]
        },
        {
          "output_type": "stream",
          "name": "stdout",
          "text": [
            "[]\n",
            "[]\n"
          ]
        }
      ]
    },
    {
      "cell_type": "code",
      "source": [
        "import fiftyone as fo\n",
        "\n",
        "print(fo.list_datasets())\n",
        "\n",
        "fo.delete_datasets(glob_patt=\"*\")\n",
        "print(fo.list_datasets())"
      ],
      "metadata": {
        "colab": {
          "base_uri": "https://localhost:8080/"
        },
        "id": "oHiTNO8N0BuJ",
        "outputId": "930ff0d2-8358-45ea-f7b0-606dcbaaa328"
      },
      "execution_count": null,
      "outputs": [
        {
          "output_type": "stream",
          "name": "stdout",
          "text": [
            "[]\n",
            "[]\n"
          ]
        }
      ]
    },
    {
      "cell_type": "code",
      "source": [
        "import os\n",
        "import shutil\n",
        "\n",
        "# Moves files from yolov7 to yolov5 \n",
        "\n",
        "# !cd /content/Orange&Apple---Fridge-Ingredients-4\n",
        "# !mkdir /content/Orange&Apple---Fridge-Ingredients-4/labels\n",
        "# !cd /content/Orange\\&Apple---Fridge-Ingredients-4/labels\n",
        "# !mkdir train\n",
        "\n",
        "# os.mkdir(\"/content/Orange&Apple---Fridge-Ingredients-4/labels/\")\n",
        "# os.mkdir(\"/content/Orange&Apple---Fridge-Ingredients-4/labels/train\")\n",
        "\n",
        "# Move images and labels into labels/train folder\n",
        "\n",
        "# source_dir = '/content/Orange&Apple---Fridge-Ingredients-4/images'\n",
        "# target_dir = '/content/Orange&Apple---Fridge-Ingredients-4/images/train'\n",
        "    \n",
        "# file_names = os.listdir(source_dir)\n",
        "\n",
        "\n",
        "# for file_name in file_names:\n",
        "#     shutil.move(os.path.join(source_dir, file_name), target_dir)\n",
        "\n",
        "def moveAllFilesFrom(source_dir, target_dir):\n",
        "  file_names = os.listdir(source_dir)\n",
        "  for file_name in file_names:\n",
        "    shutil.move(os.path.join(source_dir, file_name), target_dir)"
      ],
      "metadata": {
        "id": "7Q6-mdkEneJV"
      },
      "execution_count": 9,
      "outputs": []
    },
    {
      "cell_type": "code",
      "source": [
        "dataset = fo.Dataset.from_dir(\n",
        "    data_path=\"/content/peppers-1/data\",\n",
        "    labels_path=\"/content/peppers-1/_annotations.coco.json\",\n",
        "    dataset_type=fo.types.COCODetectionDataset,\n",
        "    label_field=\"detections\",\n",
        ")\n",
        "\n",
        "# dataset = fo.Dataset.from_dir(\n",
        "#     data_path=\"/content/peppers-1/train\",\n",
        "#     labels_path=\"/content/peppers-1/train/_annotations.coco.json\",\n",
        "#     dataset_type=fo.types.COCODetectionDataset,\n",
        "#     # label_field=\"detections\",\n",
        "# )"
      ],
      "metadata": {
        "colab": {
          "base_uri": "https://localhost:8080/"
        },
        "id": "TidLZBNlzSA6",
        "outputId": "44b2b5e4-5d4e-4dde-e199-26d7bd77b59b"
      },
      "execution_count": null,
      "outputs": [
        {
          "output_type": "stream",
          "name": "stdout",
          "text": [
            " 100% |█████████████████| 759/759 [5.6s elapsed, 0s remaining, 153.7 samples/s]      \n"
          ]
        },
        {
          "output_type": "stream",
          "name": "stderr",
          "text": [
            "INFO:eta.core.utils: 100% |█████████████████| 759/759 [5.6s elapsed, 0s remaining, 153.7 samples/s]      \n"
          ]
        }
      ]
    },
    {
      "cell_type": "code",
      "source": [
        "# Note: not really necessary\n",
        "moveAllFilesFrom(\"/content/peppers-1/train\", \"/content/peppers-1/data\")"
      ],
      "metadata": {
        "id": "P0eIWzEe1yWr"
      },
      "execution_count": 11,
      "outputs": []
    },
    {
      "cell_type": "code",
      "source": [
        "shutil.move(\"/content/peppers-1/data/_annotations.coco.json\", \"/content/peppers-1/\")"
      ],
      "metadata": {
        "colab": {
          "base_uri": "https://localhost:8080/",
          "height": 36
        },
        "id": "b6m_zAVV2Ien",
        "outputId": "3cab9bc0-5140-4757-9209-31e7b4242cb9"
      },
      "execution_count": null,
      "outputs": [
        {
          "output_type": "execute_result",
          "data": {
            "text/plain": [
              "'/content/peppers-1/_annotations.coco.json'"
            ],
            "application/vnd.google.colaboratory.intrinsic+json": {
              "type": "string"
            }
          },
          "metadata": {},
          "execution_count": 14
        }
      ]
    },
    {
      "cell_type": "code",
      "source": [
        "dataset"
      ],
      "metadata": {
        "colab": {
          "base_uri": "https://localhost:8080/"
        },
        "id": "k9zvYxwF0qqv",
        "outputId": "de07f185-e45e-409b-c80b-a4ab8de152cf"
      },
      "execution_count": null,
      "outputs": [
        {
          "output_type": "execute_result",
          "data": {
            "text/plain": [
              "Name:        2023.03.16.01.36.02\n",
              "Media type:  image\n",
              "Num samples: 759\n",
              "Persistent:  False\n",
              "Tags:        []\n",
              "Sample fields:\n",
              "    id:                    fiftyone.core.fields.ObjectIdField\n",
              "    filepath:              fiftyone.core.fields.StringField\n",
              "    tags:                  fiftyone.core.fields.ListField(fiftyone.core.fields.StringField)\n",
              "    metadata:              fiftyone.core.fields.EmbeddedDocumentField(fiftyone.core.metadata.ImageMetadata)\n",
              "    detections_detections: fiftyone.core.fields.EmbeddedDocumentField(fiftyone.core.labels.Detections)"
            ]
          },
          "metadata": {},
          "execution_count": 26
        }
      ]
    },
    {
      "cell_type": "code",
      "source": [
        "session = fo.launch_app(dataset)"
      ],
      "metadata": {
        "colab": {
          "base_uri": "https://localhost:8080/",
          "height": 804
        },
        "id": "19qSsUui0bmj",
        "outputId": "960bd1c9-002f-4ff7-a68f-ab11f6b19a31"
      },
      "execution_count": 36,
      "outputs": [
        {
          "output_type": "display_data",
          "data": {
            "text/plain": [
              "<IPython.core.display.HTML object>"
            ],
            "text/html": [
              "\n",
              "<style>\n",
              "\n",
              "@import url(\"https://fonts.googleapis.com/css2?family=Palanquin&display=swap\");\n",
              "\n",
              "body, html {\n",
              "  margin: 0;\n",
              "  padding: 0;\n",
              "  width: 100%;\n",
              "}\n",
              "\n",
              "#focontainer-4727a744-64c5-4bfa-8d1d-32596864e120 {\n",
              "  position: relative;\n",
              "  height: px;\n",
              "  display: block !important;\n",
              "}\n",
              "#foactivate-4727a744-64c5-4bfa-8d1d-32596864e120 {\n",
              "  font-weight: bold;\n",
              "  cursor: pointer;\n",
              "  font-size: 24px;\n",
              "  border-radius: 3px;\n",
              "  text-align: center;\n",
              "  padding: 0.5em;\n",
              "  color: rgb(255, 255, 255);\n",
              "  font-family: \"Palanquin\", sans-serif;\n",
              "  position: absolute;\n",
              "  left: 50%;\n",
              "  top: 50%;\n",
              "  width: 160px;\n",
              "  margin-left: -80px;\n",
              "  margin-top: -23px;\n",
              "  background: hsla(210,11%,15%, 0.8);\n",
              "  border: none;\n",
              "}\n",
              "#foactivate-4727a744-64c5-4bfa-8d1d-32596864e120:focus {\n",
              "  outline: none;\n",
              "}\n",
              "#fooverlay-4727a744-64c5-4bfa-8d1d-32596864e120 {\n",
              "  width: 100%;\n",
              "  height: 100%;\n",
              "  background: hsla(208, 7%, 46%, 0.7);\n",
              "  position: absolute;\n",
              "  top: 0;\n",
              "  left: 0;\n",
              "  display: none;\n",
              "  cursor: pointer;\n",
              "}\n",
              "</style>\n",
              "<div id=\"focontainer-4727a744-64c5-4bfa-8d1d-32596864e120\" style=\"display: none;\">\n",
              "   <div id=\"fooverlay-4727a744-64c5-4bfa-8d1d-32596864e120\">\n",
              "      <button id=\"foactivate-4727a744-64c5-4bfa-8d1d-32596864e120\" >Activate</button>\n",
              "   </div>\n",
              "</div>"
            ]
          },
          "metadata": {}
        }
      ]
    },
    {
      "cell_type": "code",
      "source": [
        "# Used to write view expressions that involve sample fields\n",
        "from fiftyone import ViewField as F\n",
        "\n",
        "view = dataset.match(F(\"ground_truth.label\") == \"mountain\")\n",
        "\n",
        "# Print summary information about the view\n",
        "print(view)"
      ],
      "metadata": {
        "colab": {
          "base_uri": "https://localhost:8080/"
        },
        "id": "gss8YRQUYAt9",
        "outputId": "f2b83707-967c-40a4-eebc-b55fc9a2401a"
      },
      "execution_count": 37,
      "outputs": [
        {
          "output_type": "stream",
          "name": "stdout",
          "text": [
            "Dataset:     2023.03.16.01.36.02\n",
            "Media type:  image\n",
            "Num samples: 0\n",
            "Sample fields:\n",
            "    id:                    fiftyone.core.fields.ObjectIdField\n",
            "    filepath:              fiftyone.core.fields.StringField\n",
            "    tags:                  fiftyone.core.fields.ListField(fiftyone.core.fields.StringField)\n",
            "    metadata:              fiftyone.core.fields.EmbeddedDocumentField(fiftyone.core.metadata.ImageMetadata)\n",
            "    detections_detections: fiftyone.core.fields.EmbeddedDocumentField(fiftyone.core.labels.Detections)\n",
            "View stages:\n",
            "    1. Match(filter={'$expr': {'$eq': [...]}})\n"
          ]
        }
      ]
    },
    {
      "cell_type": "code",
      "source": [
        "view = dataset.sort_by(\"ground_truth\", reverse=True)\n",
        "\n",
        "# Print summary information about the view\n",
        "print(view)"
      ],
      "metadata": {
        "colab": {
          "base_uri": "https://localhost:8080/",
          "height": 387
        },
        "id": "BUJ-tCETY2RM",
        "outputId": "d8c8eb05-fea1-448a-82f0-dc9df7fe67c2"
      },
      "execution_count": 38,
      "outputs": [
        {
          "output_type": "error",
          "ename": "ValueError",
          "evalue": "ignored",
          "traceback": [
            "\u001b[0;31m---------------------------------------------------------------------------\u001b[0m",
            "\u001b[0;31mValueError\u001b[0m                                Traceback (most recent call last)",
            "\u001b[0;32m<ipython-input-38-1200a86623a4>\u001b[0m in \u001b[0;36m<module>\u001b[0;34m\u001b[0m\n\u001b[0;32m----> 1\u001b[0;31m \u001b[0mview\u001b[0m \u001b[0;34m=\u001b[0m \u001b[0mdataset\u001b[0m\u001b[0;34m.\u001b[0m\u001b[0msort_by\u001b[0m\u001b[0;34m(\u001b[0m\u001b[0;34m\"ground_truth\"\u001b[0m\u001b[0;34m,\u001b[0m \u001b[0mreverse\u001b[0m\u001b[0;34m=\u001b[0m\u001b[0;32mTrue\u001b[0m\u001b[0;34m)\u001b[0m\u001b[0;34m\u001b[0m\u001b[0;34m\u001b[0m\u001b[0m\n\u001b[0m\u001b[1;32m      2\u001b[0m \u001b[0;34m\u001b[0m\u001b[0m\n\u001b[1;32m      3\u001b[0m \u001b[0;31m# Print summary information about the view\u001b[0m\u001b[0;34m\u001b[0m\u001b[0;34m\u001b[0m\u001b[0m\n\u001b[1;32m      4\u001b[0m \u001b[0mprint\u001b[0m\u001b[0;34m(\u001b[0m\u001b[0mview\u001b[0m\u001b[0;34m)\u001b[0m\u001b[0;34m\u001b[0m\u001b[0;34m\u001b[0m\u001b[0m\n",
            "\u001b[0;32m/usr/local/lib/python3.9/dist-packages/fiftyone/core/collections.py\u001b[0m in \u001b[0;36msort_by\u001b[0;34m(self, field_or_expr, reverse)\u001b[0m\n\u001b[1;32m   5834\u001b[0m             \u001b[0ma\u001b[0m \u001b[0;34m:\u001b[0m\u001b[0;32mclass\u001b[0m\u001b[0;34m:\u001b[0m\u001b[0;31m`\u001b[0m\u001b[0mfiftyone\u001b[0m\u001b[0;34m.\u001b[0m\u001b[0mcore\u001b[0m\u001b[0;34m.\u001b[0m\u001b[0mview\u001b[0m\u001b[0;34m.\u001b[0m\u001b[0mDatasetView\u001b[0m\u001b[0;31m`\u001b[0m\u001b[0;34m\u001b[0m\u001b[0;34m\u001b[0m\u001b[0m\n\u001b[1;32m   5835\u001b[0m         \"\"\"\n\u001b[0;32m-> 5836\u001b[0;31m         \u001b[0;32mreturn\u001b[0m \u001b[0mself\u001b[0m\u001b[0;34m.\u001b[0m\u001b[0m_add_view_stage\u001b[0m\u001b[0;34m(\u001b[0m\u001b[0mfos\u001b[0m\u001b[0;34m.\u001b[0m\u001b[0mSortBy\u001b[0m\u001b[0;34m(\u001b[0m\u001b[0mfield_or_expr\u001b[0m\u001b[0;34m,\u001b[0m \u001b[0mreverse\u001b[0m\u001b[0;34m=\u001b[0m\u001b[0mreverse\u001b[0m\u001b[0;34m)\u001b[0m\u001b[0;34m)\u001b[0m\u001b[0;34m\u001b[0m\u001b[0;34m\u001b[0m\u001b[0m\n\u001b[0m\u001b[1;32m   5837\u001b[0m \u001b[0;34m\u001b[0m\u001b[0m\n\u001b[1;32m   5838\u001b[0m     \u001b[0;34m@\u001b[0m\u001b[0mview_stage\u001b[0m\u001b[0;34m\u001b[0m\u001b[0;34m\u001b[0m\u001b[0m\n",
            "\u001b[0;32m/usr/local/lib/python3.9/dist-packages/fiftyone/core/dataset.py\u001b[0m in \u001b[0;36m_add_view_stage\u001b[0;34m(self, stage)\u001b[0m\n\u001b[1;32m   5666\u001b[0m \u001b[0;34m\u001b[0m\u001b[0m\n\u001b[1;32m   5667\u001b[0m     \u001b[0;32mdef\u001b[0m \u001b[0m_add_view_stage\u001b[0m\u001b[0;34m(\u001b[0m\u001b[0mself\u001b[0m\u001b[0;34m,\u001b[0m \u001b[0mstage\u001b[0m\u001b[0;34m)\u001b[0m\u001b[0;34m:\u001b[0m\u001b[0;34m\u001b[0m\u001b[0;34m\u001b[0m\u001b[0m\n\u001b[0;32m-> 5668\u001b[0;31m         \u001b[0;32mreturn\u001b[0m \u001b[0mself\u001b[0m\u001b[0;34m.\u001b[0m\u001b[0mview\u001b[0m\u001b[0;34m(\u001b[0m\u001b[0;34m)\u001b[0m\u001b[0;34m.\u001b[0m\u001b[0madd_stage\u001b[0m\u001b[0;34m(\u001b[0m\u001b[0mstage\u001b[0m\u001b[0;34m)\u001b[0m\u001b[0;34m\u001b[0m\u001b[0;34m\u001b[0m\u001b[0m\n\u001b[0m\u001b[1;32m   5669\u001b[0m \u001b[0;34m\u001b[0m\u001b[0m\n\u001b[1;32m   5670\u001b[0m     def _pipeline(\n",
            "\u001b[0;32m/usr/local/lib/python3.9/dist-packages/fiftyone/core/collections.py\u001b[0m in \u001b[0;36madd_stage\u001b[0;34m(self, stage)\u001b[0m\n\u001b[1;32m   3303\u001b[0m             \u001b[0ma\u001b[0m \u001b[0;34m:\u001b[0m\u001b[0;32mclass\u001b[0m\u001b[0;34m:\u001b[0m\u001b[0;31m`\u001b[0m\u001b[0mfiftyone\u001b[0m\u001b[0;34m.\u001b[0m\u001b[0mcore\u001b[0m\u001b[0;34m.\u001b[0m\u001b[0mview\u001b[0m\u001b[0;34m.\u001b[0m\u001b[0mDatasetView\u001b[0m\u001b[0;31m`\u001b[0m\u001b[0;34m\u001b[0m\u001b[0;34m\u001b[0m\u001b[0m\n\u001b[1;32m   3304\u001b[0m         \"\"\"\n\u001b[0;32m-> 3305\u001b[0;31m         \u001b[0;32mreturn\u001b[0m \u001b[0mself\u001b[0m\u001b[0;34m.\u001b[0m\u001b[0m_add_view_stage\u001b[0m\u001b[0;34m(\u001b[0m\u001b[0mstage\u001b[0m\u001b[0;34m)\u001b[0m\u001b[0;34m\u001b[0m\u001b[0;34m\u001b[0m\u001b[0m\n\u001b[0m\u001b[1;32m   3306\u001b[0m \u001b[0;34m\u001b[0m\u001b[0m\n\u001b[1;32m   3307\u001b[0m     \u001b[0;34m@\u001b[0m\u001b[0mview_stage\u001b[0m\u001b[0;34m\u001b[0m\u001b[0;34m\u001b[0m\u001b[0m\n",
            "\u001b[0;32m/usr/local/lib/python3.9/dist-packages/fiftyone/core/view.py\u001b[0m in \u001b[0;36m_add_view_stage\u001b[0;34m(self, stage, validate)\u001b[0m\n\u001b[1;32m   1398\u001b[0m     \u001b[0;32mdef\u001b[0m \u001b[0m_add_view_stage\u001b[0m\u001b[0;34m(\u001b[0m\u001b[0mself\u001b[0m\u001b[0;34m,\u001b[0m \u001b[0mstage\u001b[0m\u001b[0;34m,\u001b[0m \u001b[0mvalidate\u001b[0m\u001b[0;34m=\u001b[0m\u001b[0;32mTrue\u001b[0m\u001b[0;34m)\u001b[0m\u001b[0;34m:\u001b[0m\u001b[0;34m\u001b[0m\u001b[0;34m\u001b[0m\u001b[0m\n\u001b[1;32m   1399\u001b[0m         \u001b[0;32mif\u001b[0m \u001b[0mvalidate\u001b[0m\u001b[0;34m:\u001b[0m\u001b[0;34m\u001b[0m\u001b[0;34m\u001b[0m\u001b[0m\n\u001b[0;32m-> 1400\u001b[0;31m             \u001b[0mstage\u001b[0m\u001b[0;34m.\u001b[0m\u001b[0mvalidate\u001b[0m\u001b[0;34m(\u001b[0m\u001b[0mself\u001b[0m\u001b[0;34m)\u001b[0m\u001b[0;34m\u001b[0m\u001b[0;34m\u001b[0m\u001b[0m\n\u001b[0m\u001b[1;32m   1401\u001b[0m \u001b[0;34m\u001b[0m\u001b[0m\n\u001b[1;32m   1402\u001b[0m         \u001b[0;32mif\u001b[0m \u001b[0mstage\u001b[0m\u001b[0;34m.\u001b[0m\u001b[0mhas_view\u001b[0m\u001b[0;34m:\u001b[0m\u001b[0;34m\u001b[0m\u001b[0;34m\u001b[0m\u001b[0m\n",
            "\u001b[0;32m/usr/local/lib/python3.9/dist-packages/fiftyone/core/stages.py\u001b[0m in \u001b[0;36mvalidate\u001b[0;34m(self, sample_collection)\u001b[0m\n\u001b[1;32m   6226\u001b[0m \u001b[0;34m\u001b[0m\u001b[0m\n\u001b[1;32m   6227\u001b[0m         \u001b[0;32mif\u001b[0m \u001b[0metau\u001b[0m\u001b[0;34m.\u001b[0m\u001b[0mis_str\u001b[0m\u001b[0;34m(\u001b[0m\u001b[0mfield_or_expr\u001b[0m\u001b[0;34m)\u001b[0m\u001b[0;34m:\u001b[0m\u001b[0;34m\u001b[0m\u001b[0;34m\u001b[0m\u001b[0m\n\u001b[0;32m-> 6228\u001b[0;31m             \u001b[0msample_collection\u001b[0m\u001b[0;34m.\u001b[0m\u001b[0mvalidate_fields_exist\u001b[0m\u001b[0;34m(\u001b[0m\u001b[0mfield_or_expr\u001b[0m\u001b[0;34m)\u001b[0m\u001b[0;34m\u001b[0m\u001b[0;34m\u001b[0m\u001b[0m\n\u001b[0m\u001b[1;32m   6229\u001b[0m             \u001b[0msample_collection\u001b[0m\u001b[0;34m.\u001b[0m\u001b[0mcreate_index\u001b[0m\u001b[0;34m(\u001b[0m\u001b[0mfield_or_expr\u001b[0m\u001b[0;34m)\u001b[0m\u001b[0;34m\u001b[0m\u001b[0;34m\u001b[0m\u001b[0m\n\u001b[1;32m   6230\u001b[0m \u001b[0;34m\u001b[0m\u001b[0m\n",
            "\u001b[0;32m/usr/local/lib/python3.9/dist-packages/fiftyone/core/collections.py\u001b[0m in \u001b[0;36mvalidate_fields_exist\u001b[0;34m(self, fields, include_private)\u001b[0m\n\u001b[1;32m   1290\u001b[0m                 \u001b[0mfield_name\u001b[0m \u001b[0;34m=\u001b[0m \u001b[0mfield\u001b[0m\u001b[0;34m.\u001b[0m\u001b[0msplit\u001b[0m\u001b[0;34m(\u001b[0m\u001b[0;34m\".\"\u001b[0m\u001b[0;34m,\u001b[0m \u001b[0;36m1\u001b[0m\u001b[0;34m)\u001b[0m\u001b[0;34m[\u001b[0m\u001b[0;36m0\u001b[0m\u001b[0;34m]\u001b[0m\u001b[0;34m\u001b[0m\u001b[0;34m\u001b[0m\u001b[0m\n\u001b[1;32m   1291\u001b[0m                 \u001b[0;32mif\u001b[0m \u001b[0mfield_name\u001b[0m \u001b[0;32mnot\u001b[0m \u001b[0;32min\u001b[0m \u001b[0mexisting_fields\u001b[0m\u001b[0;34m:\u001b[0m\u001b[0;34m\u001b[0m\u001b[0;34m\u001b[0m\u001b[0m\n\u001b[0;32m-> 1292\u001b[0;31m                     \u001b[0;32mraise\u001b[0m \u001b[0mValueError\u001b[0m\u001b[0;34m(\u001b[0m\u001b[0;34m\"Field '%s' does not exist\"\u001b[0m \u001b[0;34m%\u001b[0m \u001b[0mfield_name\u001b[0m\u001b[0;34m)\u001b[0m\u001b[0;34m\u001b[0m\u001b[0;34m\u001b[0m\u001b[0m\n\u001b[0m\u001b[1;32m   1293\u001b[0m \u001b[0;34m\u001b[0m\u001b[0m\n\u001b[1;32m   1294\u001b[0m         \u001b[0;32mif\u001b[0m \u001b[0mframe_fields\u001b[0m\u001b[0;34m:\u001b[0m\u001b[0;34m\u001b[0m\u001b[0;34m\u001b[0m\u001b[0m\n",
            "\u001b[0;31mValueError\u001b[0m: Field 'ground_truth' does not exist"
          ]
        }
      ]
    },
    {
      "cell_type": "code",
      "source": [
        "import fiftyone.utils.annotations as foua\n",
        "\n",
        "view = dataset.limit(100)\n",
        "\n",
        "# Directory to write the output annotations\n",
        "anno_dir = \"/tmp/fiftyone/draw_labels/coco-2017-validation-anno\"\n",
        "\n",
        "# You can customize the look-and-feel of the annotations\n",
        "# For more information, see:\n",
        "# https://voxel51.com/docs/fiftyone/user_guide/draw_labels.html#customizing-label-rendering\n",
        "#\n",
        "config = foua.DrawConfig({\n",
        "    \"per_object_label_colors\": True\n",
        "})\n",
        "\n",
        "# Render the labels\n",
        "print(\"Writing annotated images to '%s'\" % anno_dir)\n",
        "view.draw_labels(anno_dir, config=config)\n",
        "print(\"Annotation complete\")"
      ],
      "metadata": {
        "colab": {
          "base_uri": "https://localhost:8080/"
        },
        "id": "H3LkPY8KE1xu",
        "outputId": "fb010d30-752d-4081-ee52-c52555fd4142"
      },
      "execution_count": 31,
      "outputs": [
        {
          "output_type": "stream",
          "name": "stdout",
          "text": [
            "Writing annotated images to '/tmp/fiftyone/draw_labels/coco-2017-validation-anno'\n",
            " 100% |█████████████████| 100/100 [11.4s elapsed, 0s remaining, 8.0 samples/s]       \n"
          ]
        },
        {
          "output_type": "stream",
          "name": "stderr",
          "text": [
            "INFO:eta.core.utils: 100% |█████████████████| 100/100 [11.4s elapsed, 0s remaining, 8.0 samples/s]       \n"
          ]
        },
        {
          "output_type": "stream",
          "name": "stdout",
          "text": [
            "Annotation complete\n"
          ]
        }
      ]
    },
    {
      "cell_type": "code",
      "source": [
        "session.open_tab()"
      ],
      "metadata": {
        "colab": {
          "base_uri": "https://localhost:8080/",
          "height": 17
        },
        "id": "ioJKIowC3upl",
        "outputId": "db220d49-eda6-4abe-f6c3-658dcb1fc34a"
      },
      "execution_count": null,
      "outputs": [
        {
          "output_type": "display_data",
          "data": {
            "text/plain": [
              "<IPython.core.display.Javascript object>"
            ],
            "application/javascript": [
              "window.open('https://s2r0557yxyn-496ff2e9c6d22116-5151-colab.googleusercontent.com/');"
            ]
          },
          "metadata": {}
        }
      ]
    },
    {
      "cell_type": "markdown",
      "source": [
        "Garbage"
      ],
      "metadata": {
        "id": "e_2QeubwzSpw"
      }
    },
    {
      "cell_type": "code",
      "source": [
        "# Rename data.yaml to dataset.yaml\n",
        "\n",
        "old_name = r\"/content/Orange&Apple---Fridge-Ingredients-4/data.yaml\"\n",
        "new_name = r\"/content/Orange&Apple---Fridge-Ingredients-4/dataset.yaml\"\n",
        "\n",
        "os.rename(old_name, new_name)"
      ],
      "metadata": {
        "id": "08MS-U8hQyUz"
      },
      "execution_count": null,
      "outputs": []
    },
    {
      "cell_type": "code",
      "source": [
        "!rm -rf \"/content/Orange&Apple---Fridge-Ingredients-4/labels\""
      ],
      "metadata": {
        "id": "oW8Xr_R5x2H8"
      },
      "execution_count": null,
      "outputs": []
    },
    {
      "cell_type": "code",
      "source": [
        "# Convert yolov7 format (test, train, valid folders \n",
        "#   all contain images/ and labels/ folders)\n",
        "\n",
        "repo_name = \"/content/Orange&Apple---Fridge-Ingredients-4\"\n",
        "\n",
        "os.makedirs(repo_name+\"/images/train\")\n",
        "os.makedirs(repo_name+\"/labels/train\")\n",
        "moveAllFilesFrom(repo_name+\"/train/images\", repo_name+\"/images/train\")\n",
        "moveAllFilesFrom(repo_name+\"/train/labels\", repo_name+\"/labels/train\")"
      ],
      "metadata": {
        "id": "OmAmZ4GtxRDS"
      },
      "execution_count": null,
      "outputs": []
    },
    {
      "cell_type": "code",
      "source": [
        "!pwd"
      ],
      "metadata": {
        "colab": {
          "base_uri": "https://localhost:8080/"
        },
        "id": "eFV2Qm4-s3NU",
        "outputId": "e8d1aebd-a173-4513-849b-085cd349a7c9"
      },
      "execution_count": null,
      "outputs": [
        {
          "output_type": "stream",
          "name": "stdout",
          "text": [
            "/content\n"
          ]
        }
      ]
    },
    {
      "cell_type": "markdown",
      "source": [
        "# YOLOv5 FiftyOne Format\n",
        "\n",
        "dataset_dir/\n",
        "    dataset.yaml<br/>\n",
        "    images/<br/>\n",
        "        &emsp;train/<br/>\n",
        "            &emsp;&emsp;uuid1.ext<br/>\n",
        "            &emsp;&emsp;uuid2.ext<br/>\n",
        "            &emsp;&emsp;...<br/>\n",
        "        &emsp;val/<br/>\n",
        "            &emsp;&emsp;uuid3.ext<br/>\n",
        "            &emsp;&emsp;uuid4.ext<br/>\n",
        "            &emsp;&emsp;...<br/>\n",
        "    labels/<br/>\n",
        "        &emsp;train/<br/>\n",
        "            &emsp;&emsp;uuid1.ext<br/>\n",
        "            &emsp;&emsp;uuid2.ext<br/>\n",
        "            &emsp;&emsp;...<br/>\n",
        "        &emsp;val/<br/>\n",
        "            &emsp;&emsp;uuid3.ext<br/>\n",
        "            &emsp;&emsp;uuid4.ext<br/>\n",
        "            &emsp;&emsp;...<br/>"
      ],
      "metadata": {
        "id": "D7hIglDvuBEr"
      }
    },
    {
      "cell_type": "code",
      "execution_count": null,
      "metadata": {
        "colab": {
          "base_uri": "https://localhost:8080/"
        },
        "id": "MKXjTMieUvQ9",
        "outputId": "ebbc721a-eb7b-482c-9027-86f9e83464fd"
      },
      "outputs": [
        {
          "output_type": "stream",
          "name": "stdout",
          "text": [
            " 100% |█████████████████████| 0/0 [34.3ms elapsed, ? remaining, ? samples/s] \n"
          ]
        },
        {
          "output_type": "stream",
          "name": "stderr",
          "text": [
            "INFO:eta.core.utils: 100% |█████████████████████| 0/0 [34.3ms elapsed, ? remaining, ? samples/s] \n"
          ]
        }
      ],
      "source": [
        "import fiftyone as fo\n",
        "import fiftyone.zoo as foz\n",
        "\n",
        "# A name for the dataset\n",
        "name = \"apple-orange-dataset123\"\n",
        "\n",
        "dataset_dir = \"/content/Orange&Apple---Fridge-Ingredients-4\"\n",
        "\n",
        "# The splits to load\n",
        "splits = [\"train\"]\n",
        "\n",
        "# Load the dataset, using tags to mark the samples in each split\n",
        "dataset = fo.Dataset(name)\n",
        "for split in splits:\n",
        "    dataset.add_dir(\n",
        "        dataset_dir=dataset_dir,\n",
        "        dataset_type=fo.types.YOLOv5Dataset,\n",
        "        split=split,\n",
        "        tags=split,\n",
        ")"
      ]
    },
    {
      "cell_type": "code",
      "source": [
        "# View summary info about the dataset\n",
        "print(dataset)"
      ],
      "metadata": {
        "colab": {
          "base_uri": "https://localhost:8080/"
        },
        "id": "CYzXP9uqtiTq",
        "outputId": "09cc1bf8-0893-4be2-d7f6-e932be4718d7"
      },
      "execution_count": null,
      "outputs": [
        {
          "output_type": "stream",
          "name": "stdout",
          "text": [
            "Name:        apple-orange-dataset123\n",
            "Media type:  None\n",
            "Num samples: 0\n",
            "Persistent:  False\n",
            "Tags:        []\n",
            "Sample fields:\n",
            "    id:           fiftyone.core.fields.ObjectIdField\n",
            "    filepath:     fiftyone.core.fields.StringField\n",
            "    tags:         fiftyone.core.fields.ListField(fiftyone.core.fields.StringField)\n",
            "    metadata:     fiftyone.core.fields.EmbeddedDocumentField(fiftyone.core.metadata.Metadata)\n",
            "    ground_truth: fiftyone.core.fields.EmbeddedDocumentField(fiftyone.core.labels.Detections)\n"
          ]
        }
      ]
    },
    {
      "cell_type": "code",
      "source": [
        "# Print the first few samples in the dataset\n",
        "print(dataset.head())"
      ],
      "metadata": {
        "colab": {
          "base_uri": "https://localhost:8080/"
        },
        "id": "wMA-1kFmtQ_U",
        "outputId": "e157c8fb-8001-4f9b-ad3f-862f9bee587a"
      },
      "execution_count": null,
      "outputs": [
        {
          "output_type": "stream",
          "name": "stdout",
          "text": [
            "[]\n"
          ]
        }
      ]
    },
    {
      "cell_type": "code",
      "source": [
        "# # fo.delete_datasets(glob_patt=)\n",
        "\n",
        "# # The directory containing the dataset to import\n",
        "# dataset_dir = \"/content/Orange&Apple---Fridge-Ingredients-2\"\n",
        "\n",
        "# # The type of the dataset being imported\n",
        "# dataset_type = fo.types.COCODetectionDataset  # for example\n",
        "\n",
        "# dataset = fo.Dataset.from_dir(\n",
        "#     dataset_dir=dataset_dir,\n",
        "#     dataset_type=dataset_type,\n",
        "#     split=\"train\",\n",
        "#     labels_path=\"/content/Orange&Apple---Fridge-Ingredients-2/train/_annotations.coco.json\",\n",
        "#     name=name,\n",
        "#     included_id=True\n",
        "# )\n",
        "\n",
        "# dataset = foz.load_zoo_dataset(\"quickstart\")\n",
        "session = fo.launch_app(dataset)"
      ],
      "metadata": {
        "colab": {
          "base_uri": "https://localhost:8080/",
          "height": 804
        },
        "id": "lwKo5Xxpto9Z",
        "outputId": "268648e3-cf66-451d-f777-5c6efd026992"
      },
      "execution_count": null,
      "outputs": [
        {
          "output_type": "display_data",
          "data": {
            "text/plain": [
              "<IPython.core.display.HTML object>"
            ],
            "text/html": [
              "\n",
              "<style>\n",
              "\n",
              "@import url(\"https://fonts.googleapis.com/css2?family=Palanquin&display=swap\");\n",
              "\n",
              "body, html {\n",
              "  margin: 0;\n",
              "  padding: 0;\n",
              "  width: 100%;\n",
              "}\n",
              "\n",
              "#focontainer-bef8aaee-8c2f-4236-b8bc-e2bd61bc8afc {\n",
              "  position: relative;\n",
              "  height: px;\n",
              "  display: block !important;\n",
              "}\n",
              "#foactivate-bef8aaee-8c2f-4236-b8bc-e2bd61bc8afc {\n",
              "  font-weight: bold;\n",
              "  cursor: pointer;\n",
              "  font-size: 24px;\n",
              "  border-radius: 3px;\n",
              "  text-align: center;\n",
              "  padding: 0.5em;\n",
              "  color: rgb(255, 255, 255);\n",
              "  font-family: \"Palanquin\", sans-serif;\n",
              "  position: absolute;\n",
              "  left: 50%;\n",
              "  top: 50%;\n",
              "  width: 160px;\n",
              "  margin-left: -80px;\n",
              "  margin-top: -23px;\n",
              "  background: hsla(210,11%,15%, 0.8);\n",
              "  border: none;\n",
              "}\n",
              "#foactivate-bef8aaee-8c2f-4236-b8bc-e2bd61bc8afc:focus {\n",
              "  outline: none;\n",
              "}\n",
              "#fooverlay-bef8aaee-8c2f-4236-b8bc-e2bd61bc8afc {\n",
              "  width: 100%;\n",
              "  height: 100%;\n",
              "  background: hsla(208, 7%, 46%, 0.7);\n",
              "  position: absolute;\n",
              "  top: 0;\n",
              "  left: 0;\n",
              "  display: none;\n",
              "  cursor: pointer;\n",
              "}\n",
              "</style>\n",
              "<div id=\"focontainer-bef8aaee-8c2f-4236-b8bc-e2bd61bc8afc\" style=\"display: none;\">\n",
              "   <div id=\"fooverlay-bef8aaee-8c2f-4236-b8bc-e2bd61bc8afc\">\n",
              "      <button id=\"foactivate-bef8aaee-8c2f-4236-b8bc-e2bd61bc8afc\" >Activate</button>\n",
              "   </div>\n",
              "</div>"
            ]
          },
          "metadata": {}
        }
      ]
    },
    {
      "cell_type": "markdown",
      "source": [
        "Remove Duplicates"
      ],
      "metadata": {
        "id": "n6zze2tFuAcV"
      }
    },
    {
      "cell_type": "code",
      "source": [
        "!pip install duplicate_images"
      ],
      "metadata": {
        "colab": {
          "base_uri": "https://localhost:8080/"
        },
        "id": "lhfRanSipMGE",
        "outputId": "03de5397-a428-4711-a4d6-95eb5ae50c85"
      },
      "execution_count": 3,
      "outputs": [
        {
          "output_type": "stream",
          "name": "stdout",
          "text": [
            "Looking in indexes: https://pypi.org/simple, https://us-python.pkg.dev/colab-wheels/public/simple/\n",
            "Requirement already satisfied: duplicate_images in /usr/local/lib/python3.9/dist-packages (0.7.1)\n",
            "Requirement already satisfied: six<2.0.0,>=1.16.0 in /usr/local/lib/python3.9/dist-packages (from duplicate_images) (1.16.0)\n",
            "Requirement already satisfied: tqdm<5.0.0,>=4.64.1 in /usr/local/lib/python3.9/dist-packages (from duplicate_images) (4.65.0)\n",
            "Requirement already satisfied: pillow<10.0.0,>=9.0.1 in /usr/local/lib/python3.9/dist-packages (from duplicate_images) (9.4.0)\n",
            "Requirement already satisfied: Wand<0.7.0,>=0.6.5 in /usr/local/lib/python3.9/dist-packages (from duplicate_images) (0.6.11)\n",
            "Requirement already satisfied: coloredlogs<16.0,>=15.0 in /usr/local/lib/python3.9/dist-packages (from duplicate_images) (15.0.1)\n",
            "Requirement already satisfied: pillow-heif<0.8.0,>=0.7.0 in /usr/local/lib/python3.9/dist-packages (from duplicate_images) (0.7.2)\n",
            "Requirement already satisfied: numpy<2.0,>=1.23 in /usr/local/lib/python3.9/dist-packages (from duplicate_images) (1.24.2)\n",
            "Requirement already satisfied: imagehash<5.0.0,>=4.3.0 in /usr/local/lib/python3.9/dist-packages (from duplicate_images) (4.3.1)\n",
            "Requirement already satisfied: humanfriendly>=9.1 in /usr/local/lib/python3.9/dist-packages (from coloredlogs<16.0,>=15.0->duplicate_images) (10.0)\n",
            "Requirement already satisfied: scipy in /usr/local/lib/python3.9/dist-packages (from imagehash<5.0.0,>=4.3.0->duplicate_images) (1.10.1)\n",
            "Requirement already satisfied: PyWavelets in /usr/local/lib/python3.9/dist-packages (from imagehash<5.0.0,>=4.3.0->duplicate_images) (1.4.1)\n",
            "Requirement already satisfied: cffi>=1.14.6 in /usr/local/lib/python3.9/dist-packages (from pillow-heif<0.8.0,>=0.7.0->duplicate_images) (1.15.1)\n",
            "Requirement already satisfied: pycparser in /usr/local/lib/python3.9/dist-packages (from cffi>=1.14.6->pillow-heif<0.8.0,>=0.7.0->duplicate_images) (2.21)\n"
          ]
        }
      ]
    },
    {
      "cell_type": "code",
      "source": [
        "# !find-dups /content/peppers-1/train\n",
        "!find-dups /content/peppers-1/train --algorithm whash"
      ],
      "metadata": {
        "colab": {
          "base_uri": "https://localhost:8080/"
        },
        "id": "GSEEal-SpOVy",
        "outputId": "c559efbb-3b4f-4cbe-f196-257ce33abe48"
      },
      "execution_count": 20,
      "outputs": [
        {
          "output_type": "stream",
          "name": "stdout",
          "text": [
            "\u001b[32m04:51:29\u001b[0m \u001b[1;30mINFO:\u001b[0m Scanning peppers-1/train\n",
            "\u001b[32m04:51:29\u001b[0m \u001b[1;30mINFO:\u001b[0m 0 total files\n",
            "\u001b[32m04:51:29\u001b[0m \u001b[1;30mINFO:\u001b[0m Computing image hashes\n",
            "\u001b[32m04:51:29\u001b[0m \u001b[1;30mINFO:\u001b[0m No persistent storage for calculated image hashes set up\n",
            "\u001b[32m04:51:29\u001b[0m \u001b[1;30mINFO:\u001b[0m 0 hashes calculated\n",
            "\u001b[32m04:51:29\u001b[0m \u001b[1;30mINFO:\u001b[0m Filtering duplicates\n",
            "\u001b[32m04:51:29\u001b[0m \u001b[1;30mINFO:\u001b[0m 0 matches\n"
          ]
        }
      ]
    },
    {
      "cell_type": "code",
      "source": [
        "moveAllFilesFrom(\"/content/peppers-1/train\", \"/content/peppers-dataset\")"
      ],
      "metadata": {
        "id": "vEu8re2ZuE33"
      },
      "execution_count": 14,
      "outputs": []
    },
    {
      "cell_type": "code",
      "source": [
        "%cd /content/\n",
        "!zip -r peppers-output.zip /content/peppers-output/ "
      ],
      "metadata": {
        "id": "9KZRnn--uNLE",
        "outputId": "91757774-c147-4a65-aae6-7f4aa2441807",
        "colab": {
          "base_uri": "https://localhost:8080/"
        }
      },
      "execution_count": 57,
      "outputs": [
        {
          "output_type": "stream",
          "name": "stdout",
          "text": [
            "/content\n",
            "  adding: content/peppers-output/ (stored 0%)\n",
            "  adding: content/peppers-output/deformity-bell-pepper_84_jpg.rf.c20c1ac3f674e763138ea767ab9ebb1e.jpg (deflated 4%)\n",
            "  adding: content/peppers-output/deformity-bell-pepper_31_jpg.rf.42a4e7871a11c2c1fce219af31ed11de.jpg (deflated 4%)\n",
            "  adding: content/peppers-output/IMG_5358_JPG.rf.a25ebe00ca86c37109b8b7bd7fa9bcce.jpg (deflated 6%)\n",
            "  adding: content/peppers-output/bell-pepper-turning-red_262.rf.abf208c246288aa9fde7f55ea72d7dba.jpg (deflated 4%)\n",
            "  adding: content/peppers-output/deformity-bell-pepper_83_jpg.rf.4f37caf68c4c8d4ad2126ca39878c5a1.jpg (deflated 4%)\n",
            "  adding: content/peppers-output/bell-pepper-turning-red_66_jpg.rf.7ca13b166115b6b622b5c0020550b159.jpg (deflated 4%)\n",
            "  adding: content/peppers-output/bell-pepper-turning-red_419_jpg.rf.14aeda5eadaefb768558d7bdf40022d2.jpg (deflated 6%)\n",
            "  adding: content/peppers-output/IMG_5416_JPG.rf.aee1eadd0e5eca5fb9f8e1cc7cbc8446.jpg (deflated 7%)\n",
            "  adding: content/peppers-output/bell-pepper-turning-red_27_jpg.rf.06fa8c0226c1dd941256c66bc9bc6b7c.jpg (deflated 4%)\n",
            "  adding: content/peppers-output/deformity-bell-pepper_39_jpg.rf.76584b34107925c5531bdc42b8c728a3.jpg (deflated 17%)\n",
            "  adding: content/peppers-output/IMG_5379_JPG.rf.4fe14b0da18e9a2be40214fdf5e7212d.jpg (deflated 6%)\n",
            "  adding: content/peppers-output/bell-pepper-turning-red_536.rf.077adddf20f6c1be5aa6ce64e467687c.jpg (deflated 10%)\n",
            "  adding: content/peppers-output/IMG_6049_JPG.rf.652dc4ca4cbc4b483eda895b1cb078fb.jpg (deflated 6%)\n",
            "  adding: content/peppers-output/IMG_5963_JPG.rf.20b44baf70e363a5369bb5a6583bef97.jpg (deflated 6%)\n",
            "  adding: content/peppers-output/IMG_5957_JPG.rf.8490c71a7b000ec64438bb215d2a2022.jpg (deflated 6%)\n",
            "  adding: content/peppers-output/bell-pepper-turning-red_20_jpg.rf.df6029f6afa403f15a78a101c4352749.jpg (deflated 4%)\n",
            "  adding: content/peppers-output/bell-pepper-rot_284_jpg.rf.ae6508d361344cc9ad4da90ba88ed244.jpg (deflated 4%)\n",
            "  adding: content/peppers-output/deformity-bell-pepper_122_jpg.rf.e9f28f7e2dedaa912d31701faf5eb0d6.jpg (deflated 5%)\n",
            "  adding: content/peppers-output/deformity-bell-pepper_258_jpg.rf.99bdfb76ecddde2144d268242d4f5fb4.jpg (deflated 4%)\n",
            "  adding: content/peppers-output/IMG_5932_JPG.rf.682086efe1de6336992e133e8c1faed3.jpg (deflated 6%)\n",
            "  adding: content/peppers-output/IMG_5389_JPG.rf.e09d6abdb54bef26e5aa6a8f82b100f9.jpg (deflated 6%)\n",
            "  adding: content/peppers-output/IMG_6009_JPG.rf.ec9228b01cc8d567a4b083ae11abcf75.jpg (deflated 6%)\n",
            "  adding: content/peppers-output/IMG_6016_JPG.rf.9adfb2a443e29116c3adccd3c7b3a7d6.jpg (deflated 6%)\n",
            "  adding: content/peppers-output/bell-pepper-turning-red_375_jpg.rf.adef84f42ff646e7eecb9c08567673f6.jpg (deflated 4%)\n",
            "  adding: content/peppers-output/bell-pepper-rot_164_jpg.rf.0c46970150ddb0a623f289968dadc7a1.jpg (deflated 5%)\n",
            "  adding: content/peppers-output/IMG_5961_JPG.rf.f81dd32250c6ec6ddef10833425034e3.jpg (deflated 6%)\n",
            "  adding: content/peppers-output/bell-pepper-turning-red_474_jpg.rf.2cc0f65ad4f800ffe8cc56367584d9f9.jpg (deflated 4%)\n",
            "  adding: content/peppers-output/bell-pepper-rot_394_jpg.rf.4821fa62b9d36153de2b0a382488214e.jpg (deflated 4%)\n",
            "  adding: content/peppers-output/bell-pepper-turning-red_20.rf.5d3476d9f81c93049503b7ad9775e2e9.jpg (deflated 4%)\n",
            "  adding: content/peppers-output/IMG_5352_JPG.rf.8e13fda0b75af58d9f888fd213750839.jpg (deflated 5%)\n",
            "  adding: content/peppers-output/deformity-bell-pepper_36.rf.e3fcb98b3f01237452602eb515cac501.jpg (deflated 6%)\n",
            "  adding: content/peppers-output/IMG_5419_JPG.rf.14b6ffc20c855dca9669ba49e7b96bc1.jpg (deflated 7%)\n",
            "  adding: content/peppers-output/IMG_5325_JPG.rf.48467fff9a5c2ac90d0d87ba3a5db1f2.jpg (deflated 6%)\n",
            "  adding: content/peppers-output/IMG_5336_JPG.rf.c29091a39cc009b04d6c678b881f3e0a.jpg (deflated 6%)\n",
            "  adding: content/peppers-output/bell-pepper-turning-red_396.rf.93cb528ff1d7588b35d3d4a02f131a0c.jpg (deflated 6%)\n",
            "  adding: content/peppers-output/bell-pepper-turning-red_33_jpg.rf.7e5b4906969ab9f28179d807d2af2a8f.jpg (deflated 5%)\n",
            "  adding: content/peppers-output/bell-pepper-rot_59.rf.f4ea1cc5f35c8e3a778b62ab3d3f8a80.jpg (deflated 6%)\n",
            "  adding: content/peppers-output/bell-pepper-turning-red_583_jpg.rf.78eda8e062d19ccbc5e0fcca851c6fde.jpg (deflated 4%)\n",
            "  adding: content/peppers-output/bell-pepper-turning-red_110_jpg.rf.cacbbc85955d519da5638f9d3dd916ed.jpg (deflated 6%)\n",
            "  adding: content/peppers-output/deformity-bell-pepper_133_jpg.rf.31cc8b7a7f32f65dd5b96c4ac0bc62f5.jpg (deflated 5%)\n",
            "  adding: content/peppers-output/IMG_5394_JPG.rf.bb63de4f9832367101b0d8cc516185cc.jpg (deflated 6%)\n",
            "  adding: content/peppers-output/bell-pepper-rot_234_jpg.rf.3376af62fee432578f3ded76a39eda82.jpg (deflated 5%)\n",
            "  adding: content/peppers-output/bell-pepper-rot_104_jpg.rf.29e7fa06d09d34ca6171bee02615b91d.jpg (deflated 4%)\n",
            "  adding: content/peppers-output/IMG_5365_JPG.rf.a058502b71174bbe737f1b0afc4a6a9d.jpg (deflated 6%)\n",
            "  adding: content/peppers-output/IMG_5320_JPG.rf.30da89316e18336b7b98a6e6b5ad44a2.jpg (deflated 7%)\n",
            "  adding: content/peppers-output/bell-pepper-rot_35_jpg.rf.2ff72ed362008d2681e205ef88f139fa.jpg (deflated 5%)\n",
            "  adding: content/peppers-output/bell-pepper-turning-red_123.rf.732d96f7fd618beadedf490383c63e71.jpg (deflated 4%)\n",
            "  adding: content/peppers-output/IMG_5371_JPG.rf.5c1aef4e1eba69af47dec5c1290f04d7.jpg (deflated 6%)\n",
            "  adding: content/peppers-output/IMG_5946_JPG.rf.438f1d9ac00d2ef425cce426f2ae472d.jpg (deflated 6%)\n",
            "  adding: content/peppers-output/bell-pepper-rot_258_jpg.rf.490a260f1fe12d849e7104af6c527669.jpg (deflated 10%)\n",
            "  adding: content/peppers-output/bell-pepper-rot_25.rf.b07b0607926a263e5781e4d4dbe8f07e.jpg (deflated 4%)\n",
            "  adding: content/peppers-output/bell-pepper-turning-red_184_jpg.rf.c2f0b081828ca0ac7e40e41028c3a14c.jpg (deflated 4%)\n",
            "  adding: content/peppers-output/IMG_5286_JPG.rf.14532772d19731f438d082ec4af8ec3e.jpg (deflated 7%)\n",
            "  adding: content/peppers-output/deformity-bell-pepper_5_jpg.rf.14bb2a3a95159bf202e2425acf20be2b.jpg (deflated 5%)\n",
            "  adding: content/peppers-output/IMG_5422_JPG.rf.d2b7d6cca576bc905e596b9075ef13cf.jpg (deflated 7%)\n",
            "  adding: content/peppers-output/bell-pepper-turning-red_580_jpg.rf.be477309c38c5dce83d50223e41df1c8.jpg (deflated 3%)\n",
            "  adding: content/peppers-output/deformity-bell-pepper_162_jpg.rf.5bffb98f2b7a41f3599acd4a512e243f.jpg (deflated 4%)\n",
            "  adding: content/peppers-output/bell-pepper-rot_92.rf.bbda665d713ccd7eab26e927d2a1d5c3.jpg (deflated 4%)\n",
            "  adding: content/peppers-output/IMG_5390_JPG.rf.ccdceb74f3e9505ebb35e0b24a2cc759.jpg (deflated 6%)\n",
            "  adding: content/peppers-output/IMG_5314_JPG.rf.17ee495ccd7b08f96665216c80c3d925.jpg (deflated 7%)\n",
            "  adding: content/peppers-output/bell-pepper-rot_327_jpg.rf.d9a37fafdc276bdbc31b47644a9004e3.jpg (deflated 14%)\n",
            "  adding: content/peppers-output/bell-pepper-rot_168_jpg.rf.2480e6f33360f15d790e9fe845d96fd6.jpg (deflated 3%)\n",
            "  adding: content/peppers-output/bell-pepper-turning-red_83_jpg.rf.cad30ae20f4be0cf7ce5e512614bad63.jpg (deflated 3%)\n",
            "  adding: content/peppers-output/IMG_5391_JPG.rf.1b2f212d68c27b1aaf115982d61d0d46.jpg (deflated 6%)\n",
            "  adding: content/peppers-output/deformity-bell-pepper_78_jpg.rf.c2fd6195e1b8e9808a9e8ca86dbcbf97.jpg (deflated 6%)\n",
            "  adding: content/peppers-output/bell-pepper-rot_46.rf.d5f106b19e2448b2ee6d1ad28441fdc7.jpg (deflated 5%)\n",
            "  adding: content/peppers-output/IMG_5388_JPG.rf.d6fdb301f466795c80c57279b0df7ed1.jpg (deflated 6%)\n",
            "  adding: content/peppers-output/bell-pepper-rot_56_jpg.rf.cf59993fc9e31be6823c5e81228c4297.jpg (deflated 6%)\n",
            "  adding: content/peppers-output/deformity-bell-pepper_21_jpg.rf.359f22f30145e98c68bd624e3fd65997.jpg (deflated 5%)\n",
            "  adding: content/peppers-output/bell-pepper-turning-red_13_jpg.rf.d9686a19282b51fd4121f33a499c3817.jpg (deflated 3%)\n",
            "  adding: content/peppers-output/IMG_5986_JPG.rf.89ccb2aed813149818212ac7f4eed63e.jpg (deflated 6%)\n",
            "  adding: content/peppers-output/deformity-bell-pepper_146_jpg.rf.423bdd2348eb3b1ab5e5daa99a407200.jpg (deflated 3%)\n",
            "  adding: content/peppers-output/bell-pepper-turning-red_138_jpg.rf.be9aa159dcd0f3f9854cde933d0ba5a3.jpg (deflated 5%)\n",
            "  adding: content/peppers-output/IMG_5300_JPG.rf.e98ee0a5ebbf9b4df7d615486b159623.jpg (deflated 7%)\n",
            "  adding: content/peppers-output/bell-pepper-turning-red_159_jpg.rf.5296c921fc1d93009646ea297a843aef.jpg (deflated 4%)\n",
            "  adding: content/peppers-output/bell-pepper-rot_40_jpg.rf.ce46dd1ff1ea27ac674c3b5f260e33a9.jpg (deflated 5%)\n",
            "  adding: content/peppers-output/bell-pepper-rot_111_jpg.rf.2b65d1916cbe711a4a8466857a5b4e6c.jpg (deflated 4%)\n",
            "  adding: content/peppers-output/IMG_5285_JPG.rf.cab55700f403d187ef5686bb50efc3f4.jpg (deflated 7%)\n",
            "  adding: content/peppers-output/bell-pepper-rot_1_jpg.rf.2133654f44b8d3bf288a41b5c8c74bb5.jpg (deflated 5%)\n",
            "  adding: content/peppers-output/IMG_5384_JPG.rf.1c4655427402d5ab06bcb4d2664fd75b.jpg (deflated 7%)\n",
            "  adding: content/peppers-output/deformity-bell-pepper_143_jpg.rf.f634f808a26e925edc4e3058ebbbb1ce.jpg (deflated 4%)\n",
            "  adding: content/peppers-output/deformity-bell-pepper_192_jpg.rf.3d70538517de7dd13985db044b1adb7e.jpg (deflated 5%)\n",
            "  adding: content/peppers-output/deformity-bell-pepper_177.rf.de0f2ec9d645e20fcf9b72dbed7ea4f5.jpg (deflated 4%)\n",
            "  adding: content/peppers-output/deformity-bell-pepper_2_jpg.rf.650fffdb8a5d7a5209e26f8d760e4940.jpg (deflated 5%)\n",
            "  adding: content/peppers-output/bell-pepper-rot_61.rf.2e8d82b48ee27b5c7a23ae6db6457dbd.jpg (deflated 5%)\n",
            "  adding: content/peppers-output/bell-pepper-turning-red_121_jpg.rf.a4a20d688c0d7ea17161f97e527f52ce.jpg (deflated 5%)\n",
            "  adding: content/peppers-output/bell-pepper-rot_97_jpg.rf.3d08412eea74b0cfbba7fa1dccad42f6.jpg (deflated 5%)\n",
            "  adding: content/peppers-output/bell-pepper-turning-red_350_jpg.rf.cfb79ffabb1e67553604f4b8251cbf9c.jpg (deflated 5%)\n",
            "  adding: content/peppers-output/bell-pepper-turning-red_194_jpg.rf.af5c55dd89b195a5b59e51586ba84cf4.jpg (deflated 5%)\n",
            "  adding: content/peppers-output/deformity-bell-pepper_24_jpg.rf.049d9230aea4f3dc5d25671a1357fcac.jpg (deflated 4%)\n",
            "  adding: content/peppers-output/IMG_5999_JPG.rf.7c708821501ba2e58189c90aecf91ab3.jpg (deflated 6%)\n",
            "  adding: content/peppers-output/bell-pepper-turning-red_384_jpg.rf.45dbd741df6f4e9de96cc21d182af6b9.jpg (deflated 5%)\n",
            "  adding: content/peppers-output/deformity-bell-pepper_42_jpg.rf.0af99d7526a826ee6dc8139442bb7ac4.jpg (deflated 4%)\n",
            "  adding: content/peppers-output/IMG_5383_JPG.rf.41483d02817f4f3567e4dcdf9321c198.jpg (deflated 6%)\n",
            "  adding: content/peppers-output/deformity-bell-pepper_91_jpg.rf.0c91d47c6386ad506afa94fb5d84c06f.jpg (deflated 5%)\n",
            "  adding: content/peppers-output/bell-pepper-rot_8_jpg.rf.6f72bbf48f734e9c32d41250a66fc18d.jpg (deflated 4%)\n",
            "  adding: content/peppers-output/bell-pepper-turning-red_131.rf.e605d009d47bd4823b91bd965a145266.jpg (deflated 5%)\n",
            "  adding: content/peppers-output/IMG_5312_JPG.rf.007c47c2c9f73a2a171440e1e7a35e84.jpg (deflated 7%)\n",
            "  adding: content/peppers-output/bell-pepper-rot_196_jpg.rf.cea1eee403ab8acfa0273b626c87de10.jpg (deflated 4%)\n",
            "  adding: content/peppers-output/deformity-bell-pepper_62.rf.8ba8a84f1cddf3494b2696bd3cb463e6.jpg (deflated 6%)\n",
            "  adding: content/peppers-output/IMG_5951_JPG.rf.7fe836ee87eceda46a8ee3fb81bf37b1.jpg (deflated 6%)\n",
            "  adding: content/peppers-output/bell-pepper-rot_237.rf.ca03f8108923d7ec3dc4b4656724c381.jpg (deflated 5%)\n",
            "  adding: content/peppers-output/bell-pepper-turning-red_4_jpg.rf.0ba734cc5273551694f1dad0e0a1ff46.jpg (deflated 4%)\n",
            "  adding: content/peppers-output/bell-pepper-turning-red_282_jpg.rf.20e895e73e2b2d9a689158a6bd491e88.jpg (deflated 6%)\n",
            "  adding: content/peppers-output/deformity-bell-pepper_123_jpg.rf.cc7a0188b823c0049dc53dfed0628d2f.jpg (deflated 4%)\n",
            "  adding: content/peppers-output/IMG_5417_JPG.rf.707218ad910846542334fcd4ca2a6821.jpg (deflated 7%)\n",
            "  adding: content/peppers-output/bell-pepper-turning-red_170.rf.687107026481d33fa50a79c5b3a5ac43.jpg (deflated 4%)\n",
            "  adding: content/peppers-output/IMG_5309_JPG.rf.064ec911448a5578f2c86f51e0aae74b.jpg (deflated 7%)\n",
            "  adding: content/peppers-output/IMG_6014_JPG.rf.63ed5113f2c76891499824939a9b66d4.jpg (deflated 6%)\n",
            "  adding: content/peppers-output/IMG_5982_JPG.rf.3fd11ba876dac35f5223f4b3c18d80d7.jpg (deflated 6%)\n",
            "  adding: content/peppers-output/IMG_5356_JPG.rf.6896f5182aa523e29c6bc59ab5375d59.jpg (deflated 6%)\n",
            "  adding: content/peppers-output/bell-pepper-turning-red_444.rf.b80a45177ddacba6930690061352f88a.jpg (deflated 4%)\n",
            "  adding: content/peppers-output/deformity-bell-pepper_110_jpg.rf.3d12d74ae63975ab18f7d48b7b2a587b.jpg (deflated 5%)\n",
            "  adding: content/peppers-output/IMG_5287_JPG.rf.27cf8fabc66aadf8cd649c469691d108.jpg (deflated 7%)\n",
            "  adding: content/peppers-output/deformity-bell-pepper_165_jpg.rf.7ea23b32a3a851d612e3ea0cef249d42.jpg (deflated 5%)\n",
            "  adding: content/peppers-output/deformity-bell-pepper_116_jpg.rf.dc5286da2e323ff219ced55881575467.jpg (deflated 3%)\n",
            "  adding: content/peppers-output/bell-pepper-turning-red_232_jpg.rf.66fa0d7cd7f2781f8f98e87ffccbd217.jpg (deflated 5%)\n",
            "  adding: content/peppers-output/IMG_5296_JPG.rf.4106e5ca89451935429aa3357861ef92.jpg (deflated 6%)\n",
            "  adding: content/peppers-output/bell-pepper-rot_27_jpg.rf.0f1356a0d0867c2a1ea4ea8a92a5853d.jpg (deflated 4%)\n",
            "  adding: content/peppers-output/bell-pepper-turning-red_11.rf.2a4523970425b7d71c9c266a46bbf624.jpg (deflated 5%)\n",
            "  adding: content/peppers-output/IMG_5989_JPG.rf.782532aad45827f1f83f43ac07889144.jpg (deflated 6%)\n",
            "  adding: content/peppers-output/bell-pepper-rot_128_jpg.rf.213a28ab0f0a9600841a044334a8738b.jpg (deflated 4%)\n",
            "  adding: content/peppers-output/deformity-bell-pepper_37_jpg.rf.6490cc630dd5118a5225156f10fc781c.jpg (deflated 6%)\n",
            "  adding: content/peppers-output/IMG_5363_JPG.rf.bf45add9f4674c9852c5898f566fd251.jpg (deflated 6%)\n",
            "  adding: content/peppers-output/deformity-bell-pepper_34_jpg.rf.906e574542232c67911ac55237fef456.jpg (deflated 13%)\n",
            "  adding: content/peppers-output/IMG_6010_JPG.rf.7700c6258a51788a3b5c7b0da6552b74.jpg (deflated 6%)\n",
            "  adding: content/peppers-output/IMG_5997_JPG.rf.ef4091e18e3ef500be56fe0f42c17b1b.jpg (deflated 6%)\n",
            "  adding: content/peppers-output/deformity-bell-pepper_65_jpg.rf.909d147d7b3fbeb21e059fa8d467b3c6.jpg (deflated 4%)\n",
            "  adding: content/peppers-output/159581610297277_jpg.rf.16a02536d1daeb1c59d067d997541d5f.jpg (deflated 12%)\n",
            "  adding: content/peppers-output/bell-pepper-turning-red_16.rf.0af4d6450e08c5f8dfa4411a06157725.jpg (deflated 4%)\n",
            "  adding: content/peppers-output/bell-pepper-turning-red_333_jpg.rf.07da72e1f96a6685341abe1d95a4453a.jpg (deflated 4%)\n",
            "  adding: content/peppers-output/deformity-bell-pepper_0_jpg.rf.6cf86873dedd9b01386bf29efbf46024.jpg (deflated 5%)\n",
            "  adding: content/peppers-output/IMG_5362_JPG.rf.75044caa00a6b644b208f0b2588e7f06.jpg (deflated 6%)\n",
            "  adding: content/peppers-output/deformity-bell-pepper_98_jpg.rf.85e317566bb12f1610e5cc18f4113d03.jpg (deflated 5%)\n",
            "  adding: content/peppers-output/bell-pepper-turning-red_334_jpg.rf.3a34c513f6d64e10f0c2fac43cb0e7da.jpg (deflated 4%)\n",
            "  adding: content/peppers-output/IMG_5406_JPG.rf.2d7c3ec599daaff68431498eea5edb89.jpg (deflated 6%)\n",
            "  adding: content/peppers-output/IMG_5302_JPG.rf.c7e5783300709a482a212e987f58f0cf.jpg (deflated 7%)\n",
            "  adding: content/peppers-output/deformity-bell-pepper_262_jpg.rf.b00f4c6d0ee22cfb009a122ff806cb16.jpg (deflated 10%)\n",
            "  adding: content/peppers-output/IMG_5376_JPG.rf.fe54286f62bb6e25a982acd8966f7639.jpg (deflated 6%)\n",
            "  adding: content/peppers-output/bell-pepper-turning-red_529_jpg.rf.9ebd4619bb6c0f1b6e32dfca2e26552e.jpg (deflated 4%)\n",
            "  adding: content/peppers-output/IMG_5959_JPG.rf.0cbb0399ff8c7bcef76fcfc5cc3b0f68.jpg (deflated 6%)\n",
            "  adding: content/peppers-output/deformity-bell-pepper_17_jpg.rf.fe3a9c7d463d70de63726f20e2f8706a.jpg (deflated 5%)\n",
            "  adding: content/peppers-output/bell-pepper-turning-red_244_jpg.rf.36a3ac597db33790782593cefcddb31b.jpg (deflated 4%)\n",
            "  adding: content/peppers-output/bell-pepper-rot_305_jpg.rf.e46eef0f2a4ea52ca47f14bed4fc53e5.jpg (deflated 5%)\n",
            "  adding: content/peppers-output/bell-pepper-turning-red_17_jpg.rf.d50c07f4dc0c97e9173114a4c554e234.jpg (deflated 4%)\n",
            "  adding: content/peppers-output/IMG_5333_JPG.rf.0bc9d2c31c2d2b9beba747481663c37e.jpg (deflated 6%)\n",
            "  adding: content/peppers-output/IMG_5360_JPG.rf.dfec14827f2086e8896d16c95672bf09.jpg (deflated 6%)\n",
            "  adding: content/peppers-output/deformity-bell-pepper_35_jpg.rf.660e311d068d6e9875f049ec66641737.jpg (deflated 4%)\n",
            "  adding: content/peppers-output/IMG_5943_JPG.rf.5d24fdbf4ca941a94f90cc7866d96d45.jpg (deflated 6%)\n",
            "  adding: content/peppers-output/bell-pepper-rot_291_jpg.rf.538c4be4068fa3ca494ee28e296351a4.jpg (deflated 5%)\n",
            "  adding: content/peppers-output/IMG_5380_JPG.rf.0230a85b8f329b71b320a0d8b8124433.jpg (deflated 6%)\n",
            "  adding: content/peppers-output/IMG_5947_JPG.rf.57de670b1be577435ccf78640bb29d03.jpg (deflated 6%)\n",
            "  adding: content/peppers-output/bell-pepper-rot_39_jpg.rf.7cb701f23fd6475800c7f14494cd32c7.jpg (deflated 4%)\n",
            "  adding: content/peppers-output/bell-pepper-turning-red_386_jpg.rf.5748e59a67ece061a39f0c1a6a06431d.jpg (deflated 4%)\n",
            "  adding: content/peppers-output/bell-pepper-rot_276_jpg.rf.6cff3faa611d23856661c6e4645854de.jpg (deflated 5%)\n",
            "  adding: content/peppers-output/bell-pepper-turning-red_174_jpg.rf.c6330d495413cd88a1c1fd7c417cf8e6.jpg (deflated 4%)\n",
            "  adding: content/peppers-output/deformity-bell-pepper_47_jpg.rf.9eda4f858607837c669862e27ba24b45.jpg (deflated 14%)\n",
            "  adding: content/peppers-output/bell-pepper-rot_98_jpg.rf.4abaa9420ad9410c9b4cd80dbbc8878c.jpg (deflated 4%)\n",
            "  adding: content/peppers-output/deformity-bell-pepper_29_jpg.rf.8d368f0c60782602687bde2b9cf14cc5.jpg (deflated 4%)\n",
            "  adding: content/peppers-output/IMG_5327_JPG.rf.aee94967aa1c7bd50cc8a30e166f2e41.jpg (deflated 6%)\n",
            "  adding: content/peppers-output/bell-pepper-rot_218_jpg.rf.efb2e9cd08139fdeff71a599adcb2d48.jpg (deflated 4%)\n",
            "  adding: content/peppers-output/IMG_5953_JPG.rf.6abd1c39480711c47c4a1e1ac39064e4.jpg (deflated 6%)\n",
            "  adding: content/peppers-output/bell-pepper-rot_331_jpg.rf.f6733c13238bdf37e8cca82be365fd99.jpg (deflated 12%)\n",
            "  adding: content/peppers-output/bell-pepper-turning-red_132_jpg.rf.8e0b48061e5f23974ca8eb266a529611.jpg (deflated 3%)\n",
            "  adding: content/peppers-output/bell-pepper-turning-red_213_jpg.rf.dd196613951d83c95ab18c090839aa18.jpg (deflated 4%)\n",
            "  adding: content/peppers-output/IMG_5960_JPG.rf.7aa47cafe7ba809b5320951ff4d62547.jpg (deflated 6%)\n",
            "  adding: content/peppers-output/IMG_5974_JPG.rf.284ab320f408be947d2f8978063712e8.jpg (deflated 6%)\n",
            "  adding: content/peppers-output/bell-pepper-rot_408_jpg.rf.c3401fe179cb0b9b30394f95309470fc.jpg (deflated 4%)\n",
            "  adding: content/peppers-output/IMG_5972_JPG.rf.dfadaccd82a9d08338674363c6aa7dc5.jpg (deflated 6%)\n",
            "  adding: content/peppers-output/IMG_6001_JPG.rf.9139157f21133d5f4d5fe2da85795197.jpg (deflated 6%)\n",
            "  adding: content/peppers-output/IMG_5319_JPG.rf.06927f34eaaaad779c5acbba7afe36e7.jpg (deflated 6%)\n",
            "  adding: content/peppers-output/deformity-bell-pepper_182_jpg.rf.07b61942e9b938ce21f08b4f7f1d00ad.jpg (deflated 4%)\n",
            "  adding: content/peppers-output/bell-pepper-turning-red_377_jpg.rf.09c4e5d2fd74492edbc04c173de3fb63.jpg (deflated 6%)\n",
            "  adding: content/peppers-output/bell-pepper-rot_113_jpg.rf.6623b00364e9c9a1ed2041d52447f539.jpg (deflated 4%)\n",
            "  adding: content/peppers-output/bell-pepper-turning-red_262_jpg.rf.78c1b080b4026501c13caf90f13b5529.jpg (deflated 4%)\n",
            "  adding: content/peppers-output/IMG_5395_JPG.rf.44016b7445180ef4e57745d9955462db.jpg (deflated 6%)\n",
            "  adding: content/peppers-output/bell-pepper-rot_139.rf.272d8a006e457f7f1ee17019a0f32d18.jpg (deflated 21%)\n",
            "  adding: content/peppers-output/IMG_6005_JPG.rf.259267466431e9f23eed9483f047c734.jpg (deflated 6%)\n",
            "  adding: content/peppers-output/bell-pepper-turning-red_374_jpg.rf.2410ec1ff2cebdebf997408e7f9f7fe1.jpg (deflated 5%)\n",
            "  adding: content/peppers-output/IMG_5370_JPG.rf.8bfcaa8e902cc992c6595fd6aa9bbefb.jpg (deflated 6%)\n",
            "  adding: content/peppers-output/bell-pepper-turning-red_63_jpg.rf.a4dc8d093cc5f3a0c82d249cde218cdb.jpg (deflated 8%)\n",
            "  adding: content/peppers-output/bell-pepper-rot_59_jpg.rf.0e22f66d26eaa527f41381063eee27b6.jpg (deflated 4%)\n",
            "  adding: content/peppers-output/deformity-bell-pepper_23_jpg.rf.1a81f7f65977e657afbbcc89720dbb2d.jpg (deflated 4%)\n",
            "  adding: content/peppers-output/bell-pepper-rot_426_jpg.rf.a9ae00c431574b8cadc38212170550f6.jpg (deflated 8%)\n",
            "  adding: content/peppers-output/bell-pepper-rot_171_jpg.rf.56fa7082fbfeb6a5cdaf7cc00dcc71b9.jpg (deflated 6%)\n",
            "  adding: content/peppers-output/IMG_5359_JPG.rf.6f851a7d3a4919a9603ed96f10c8d874.jpg (deflated 6%)\n",
            "  adding: content/peppers-output/IMG_6006_JPG.rf.f8124dc66d426cd9a76126ae3c295cc5.jpg (deflated 6%)\n",
            "  adding: content/peppers-output/deformity-bell-pepper_246_jpg.rf.17cfc8969e920ca5fba694e981d39c08.jpg (deflated 7%)\n",
            "  adding: content/peppers-output/bell-pepper-rot_117.rf.03ce7fd39bd0f5a7653a7a523ad04ec8.jpg (deflated 5%)\n",
            "  adding: content/peppers-output/deformity-bell-pepper_80_jpg.rf.64eb700b4d9d2b56efa235b84da4e92d.jpg (deflated 8%)\n",
            "  adding: content/peppers-output/bell-pepper-turning-red_61_jpg.rf.ab2ed000a7eb2006b57fe35a7dd91c5b.jpg (deflated 4%)\n",
            "  adding: content/peppers-output/deformity-bell-pepper_82_jpg.rf.058946f431d51448c3c51104c032e564.jpg (deflated 4%)\n",
            "  adding: content/peppers-output/bell-pepper-turning-red_219_jpg.rf.c5e92c128b6e14775d6ab4faa84bba9c.jpg (deflated 5%)\n",
            "  adding: content/peppers-output/IMG_5288_JPG.rf.55a5b3eafc64616c79974a3e44a9cf50.jpg (deflated 7%)\n",
            "  adding: content/peppers-output/deformity-bell-pepper_54_jpg.rf.2982b3cced172a022039fb325266e191.jpg (deflated 4%)\n",
            "  adding: content/peppers-output/bell-pepper-rot_117_jpg.rf.ed9ad20906798c7f90a6e70c4a83c7cf.jpg (deflated 4%)\n",
            "  adding: content/peppers-output/IMG_5977_JPG.rf.f30f2afc28e6f628b04384b81414ceb0.jpg (deflated 6%)\n",
            "  adding: content/peppers-output/bell-pepper-turning-red_65_jpg.rf.ac12c14fb0f747c292b79917ba4e1e11.jpg (deflated 4%)\n",
            "  adding: content/peppers-output/bell-pepper-turning-red_8.rf.6a668c81a533ef297e651009d4b2c13d.jpg (deflated 7%)\n",
            "  adding: content/peppers-output/deformity-bell-pepper_184_jpg.rf.03e44ec661ea32697afd24d166acbee3.jpg (deflated 4%)\n",
            "  adding: content/peppers-output/bell-pepper-turning-red_402.rf.66f720132962cd74ebed919530287393.jpg (deflated 4%)\n",
            "  adding: content/peppers-output/deformity-bell-pepper_25_jpg.rf.c97754fbf5d7a2ee3bbdb9c8bec24539.jpg (deflated 5%)\n",
            "  adding: content/peppers-output/bell-pepper-turning-red_386.rf.73489b2776ab2f4bde2dcc97a63c02ad.jpg (deflated 4%)\n",
            "  adding: content/peppers-output/bell-pepper-turning-red_1.rf.e824139c0e2476c811fbb6fc854eab82.jpg (deflated 4%)\n",
            "  adding: content/peppers-output/IMG_5962_JPG.rf.b98af3c5bd383a27718600f07d23f33f.jpg (deflated 6%)\n",
            "  adding: content/peppers-output/bell-pepper-rot_441_jpg.rf.9fdeef1758188b4c34835a7955c19f09.jpg (deflated 4%)\n",
            "  adding: content/peppers-output/deformity-bell-pepper_144_jpg.rf.c7d82718ed81d27bb0ad663d3099c809.jpg (deflated 5%)\n",
            "  adding: content/peppers-output/bell-pepper-rot_19_jpg.rf.846071ec90dda868521a88b34100ce0a.jpg (deflated 5%)\n",
            "  adding: content/peppers-output/IMG_5964_JPG.rf.43d8a65cf473c6c046d883fb9924d597.jpg (deflated 6%)\n",
            "  adding: content/peppers-output/deformity-bell-pepper_77_jpg.rf.43276cd8c74a84610ef3d03e2e1108eb.jpg (deflated 8%)\n",
            "  adding: content/peppers-output/bell-pepper-turning-red_78_jpg.rf.0ba81aaa6460e0a2347096dae62fb153.jpg (deflated 4%)\n",
            "  adding: content/peppers-output/deformity-bell-pepper_303_jpg.rf.64547bae0cd09b426766e8ade0b4c11a.jpg (deflated 4%)\n",
            "  adding: content/peppers-output/IMG_5992_JPG.rf.7620893447eedb4216b91295b4fd20ac.jpg (deflated 6%)\n",
            "  adding: content/peppers-output/bell-pepper-rot_302_jpg.rf.3c75bbe0c6e774e84fa70cea64dbf9ea.jpg (deflated 5%)\n",
            "  adding: content/peppers-output/deformity-bell-pepper_255_jpg.rf.15dcd53aa5ed5e44e19012882dc52fb3.jpg (deflated 10%)\n",
            "  adding: content/peppers-output/bell-pepper-turning-red_603_jpg.rf.49d37ecf3db9152caf6a66220ab81c4d.jpg (deflated 5%)\n",
            "  adding: content/peppers-output/IMG_5405_JPG.rf.5d89d9e623c363e461fa2b9c711f4d98.jpg (deflated 6%)\n",
            "  adding: content/peppers-output/bell-pepper-rot_21_jpg.rf.4d772ff97e49fc9b8720db99730a7acc.jpg (deflated 5%)\n",
            "  adding: content/peppers-output/deformity-bell-pepper_145_jpg.rf.46b1b76998fe57bfb74e265c9c279aa3.jpg (deflated 5%)\n",
            "  adding: content/peppers-output/IMG_5378_JPG.rf.36be28facf4e77b948f7b133ac5315ce.jpg (deflated 6%)\n",
            "  adding: content/peppers-output/IMG_5292_JPG.rf.db2cf4a2463d7ff1a8a7dd66e4f7299e.jpg (deflated 7%)\n",
            "  adding: content/peppers-output/bell-pepper-turning-red_6_jpg.rf.1feaa645f0961a4c433575b239f82f3f.jpg (deflated 4%)\n",
            "  adding: content/peppers-output/bell-pepper-turning-red_3_jpg.rf.6a785194df4eaea4e80762ac1ec026e5.jpg (deflated 4%)\n",
            "  adding: content/peppers-output/IMG_5323_JPG.rf.a8045aa69982bd3f0c01d162fc983fe4.jpg (deflated 7%)\n",
            "  adding: content/peppers-output/IMG_5404_JPG.rf.73c7397e7790a38d2c68f2e4445efba6.jpg (deflated 6%)\n",
            "  adding: content/peppers-output/bell-pepper-rot_120.rf.cbcb0a3ceff41fea847d354b42bedc1a.jpg (deflated 9%)\n",
            "  adding: content/peppers-output/deformity-bell-pepper_67_jpg.rf.5d6c38730a976266a3cb08c1993ee547.jpg (deflated 10%)\n",
            "  adding: content/peppers-output/IMG_6018_JPG.rf.51aacea6969b98f749091088fa60c687.jpg (deflated 6%)\n",
            "  adding: content/peppers-output/bell-pepper-turning-red_482_jpg.rf.56b20dd07bfc7ee040930876242fdcb8.jpg (deflated 4%)\n",
            "  adding: content/peppers-output/IMG_5299_JPG.rf.30352b0b0d005c0a2965806b77117913.jpg (deflated 6%)\n",
            "  adding: content/peppers-output/bell-pepper-turning-red_398_jpg.rf.4973fe8b8dcf642d50345657ba7be614.jpg (deflated 5%)\n",
            "  adding: content/peppers-output/bell-pepper-rot_24_jpg.rf.a1a425af0f59abf93fca0ea471d33bb2.jpg (deflated 4%)\n",
            "  adding: content/peppers-output/deformity-bell-pepper_13_jpg.rf.8e4e5e9940f3ef92af095217bdce3c71.jpg (deflated 4%)\n",
            "  adding: content/peppers-output/bell-pepper-turning-red_2_jpg.rf.b9f82bb24e01e4d926fb38c5bf055384.jpg (deflated 6%)\n",
            "  adding: content/peppers-output/IMG_5980_JPG.rf.164d1eeac4002b7f15b572df80974a79.jpg (deflated 6%)\n",
            "  adding: content/peppers-output/IMG_5988_JPG.rf.b98dfc9aefae736bacacdc370e201a90.jpg (deflated 6%)\n",
            "  adding: content/peppers-output/bell-pepper-turning-red_250.rf.106329c3d19c2dd50fe09a9b893df684.jpg (deflated 4%)\n",
            "  adding: content/peppers-output/bell-pepper-rot_245_jpg.rf.abe3a2bcc1e770c78f132ad878327ba4.jpg (deflated 5%)\n",
            "  adding: content/peppers-output/bell-pepper-rot_276.rf.e11c3d9465c5ef5da7c2365d9a20d7eb.jpg (deflated 5%)\n",
            "  adding: content/peppers-output/bell-pepper-turning-red_391_jpg.rf.cb58f8b2c520499958016167f74825cd.jpg (deflated 4%)\n",
            "  adding: content/peppers-output/IMG_5369_JPG.rf.9e842e244145169e7a9396599e9065c3.jpg (deflated 6%)\n",
            "  adding: content/peppers-output/bell-pepper-turning-red_347_jpg.rf.619d92f8c3c0f2233cce9cd4ddd3fd59.jpg (deflated 4%)\n",
            "  adding: content/peppers-output/bell-pepper-rot_82_jpg.rf.de25f3e16099e11fa47bd21d4fd01150.jpg (deflated 5%)\n",
            "  adding: content/peppers-output/bell-pepper-turning-red_396_jpg.rf.3a81e69f3285809d7e5e0230475b480d.jpg (deflated 6%)\n",
            "  adding: content/peppers-output/bell-pepper-turning-red_217_jpg.rf.e0e61700e3c0800b3cdb70d7c389284d.jpg (deflated 10%)\n",
            "  adding: content/peppers-output/IMG_6021_JPG.rf.cee14c510283ab833e7f9b15e0f53fd3.jpg (deflated 6%)\n",
            "  adding: content/peppers-output/bell-pepper-turning-red_407_jpg.rf.8aa2eefb43cc400372db539f5f46a75f.jpg (deflated 9%)\n",
            "  adding: content/peppers-output/bell-pepper-rot_383_jpg.rf.eac95891b6bf97630d1f3b079671e3fc.jpg (deflated 4%)\n",
            "  adding: content/peppers-output/IMG_5956_JPG.rf.0c38833eb449d0143125829dc66b2ae5.jpg (deflated 6%)\n",
            "  adding: content/peppers-output/IMG_6052_JPG.rf.4f770a57d22910f5673ed79495299cff.jpg (deflated 6%)\n",
            "  adding: content/peppers-output/bell-pepper-turning-red_49_jpg.rf.f7df7aabe7c5711392144524cf45a42f.jpg (deflated 4%)\n",
            "  adding: content/peppers-output/bell-pepper-rot_268_jpg.rf.fae3bc6b28cd831b7a2f2197be1fc663.jpg (deflated 4%)\n",
            "  adding: content/peppers-output/IMG_5366_JPG.rf.a6f67efd7a772fe9b73e3b8369be9ab6.jpg (deflated 6%)\n",
            "  adding: content/peppers-output/bell-pepper-turning-red_84_jpg.rf.3eaa30d69cfb6cb9cf042b6ec6417834.jpg (deflated 15%)\n",
            "  adding: content/peppers-output/IMG_5967_JPG.rf.72f4c08b58dfaca14648ca3c0a305e3c.jpg (deflated 6%)\n",
            "  adding: content/peppers-output/bell-pepper-turning-red_261_jpg.rf.0397b9e15de7d1c5eb1e4c1178b2c444.jpg (deflated 4%)\n",
            "  adding: content/peppers-output/IMG_5284_JPG.rf.baf85d1cf9d0abdf3f4de1bd4645d888.jpg (deflated 7%)\n",
            "  adding: content/peppers-output/IMG_5392_JPG.rf.c44f258a5ab4fa1c3b65c4c5ad4c619b.jpg (deflated 6%)\n",
            "  adding: content/peppers-output/bell-pepper-turning-red_288_jpg.rf.5564ed8b688d448e5cbc6227e85335d3.jpg (deflated 4%)\n",
            "  adding: content/peppers-output/bell-pepper-rot_96_jpg.rf.491894b1bd17e35ebad2f367c20b1b54.jpg (deflated 5%)\n",
            "  adding: content/peppers-output/deformity-bell-pepper_103_jpg.rf.84f7712fd88e46925ebb6244710a8aa7.jpg (deflated 4%)\n",
            "  adding: content/peppers-output/IMG_5393_JPG.rf.0d2b9c4abf6770037d5ce5c5e0aa8a2a.jpg (deflated 6%)\n",
            "  adding: content/peppers-output/bell-pepper-rot_29_jpg.rf.d78f5a403791f7bdfdc205f8a37ae78b.jpg (deflated 6%)\n",
            "  adding: content/peppers-output/IMG_5985_JPG.rf.6e348472a54ecc95695a8de7a4f9f6d0.jpg (deflated 6%)\n",
            "  adding: content/peppers-output/IMG_5340_JPG.rf.046f140445943ebaf8a7224619dd9d3e.jpg (deflated 7%)\n",
            "  adding: content/peppers-output/bell-pepper-rot_386_jpg.rf.a7427c5ac56a65459055a89368844f2d.jpg (deflated 6%)\n",
            "  adding: content/peppers-output/IMG_6026_JPG.rf.c75ccf395571dab583d00554c2933133.jpg (deflated 6%)\n",
            "  adding: content/peppers-output/IMG_5316_JPG.rf.6413bf367c6abda153d2ed02ee4578cc.jpg (deflated 6%)\n",
            "  adding: content/peppers-output/bell-pepper-turning-red_57_jpg.rf.7934f2c9461a28f70f4fffc6048372c5.jpg (deflated 5%)\n",
            "  adding: content/peppers-output/bell-pepper-turning-red_309_jpg.rf.1bd2f05b601eee86864752fd55a76580.jpg (deflated 4%)\n",
            "  adding: content/peppers-output/bell-pepper-rot_322_jpg.rf.cc014e0510092f550073c4d02c0dfc42.jpg (deflated 5%)\n",
            "  adding: content/peppers-output/bell-pepper-turning-red_229_jpg.rf.fdd9d1cb471982793e35ad4169fca97e.jpg (deflated 5%)\n",
            "  adding: content/peppers-output/IMG_5373_JPG.rf.38a935b4c6ea0c75caa16c7c027a1e8b.jpg (deflated 6%)\n",
            "  adding: content/peppers-output/bell-pepper-turning-red_448_jpg.rf.f132e74e0d7724f1ead925d9306b5977.jpg (deflated 5%)\n",
            "  adding: content/peppers-output/IMG_5387_JPG.rf.4ff95621ce82d042c60d492c638f93e5.jpg (deflated 6%)\n",
            "  adding: content/peppers-output/bell-pepper-turning-red_11_jpg.rf.396a8bf3d164e3fa1f682ba575ec7e2e.jpg (deflated 4%)\n",
            "  adding: content/peppers-output/IMG_5402_JPG.rf.c29afbd5bc8f5e91fde40c3fbe176770.jpg (deflated 6%)\n",
            "  adding: content/peppers-output/bell-pepper-rot_62.rf.7e7f99acbcb3ffe0a410e111cd105596.jpg (deflated 5%)\n",
            "  adding: content/peppers-output/IMG_5400_JPG.rf.c7540fb56e519243fb98527353606ca4.jpg (deflated 6%)\n",
            "  adding: content/peppers-output/IMG_5324_JPG.rf.2559cd60f95ea79cc047be458fb3c314.jpg (deflated 7%)\n",
            "  adding: content/peppers-output/bell-pepper-rot_37_jpg.rf.d5212653794012a8f143859d7a535d98.jpg (deflated 4%)\n",
            "  adding: content/peppers-output/bell-pepper-rot_13.rf.ffd18dcb77c8646f84d57f66d5aabc31.jpg (deflated 5%)\n",
            "  adding: content/peppers-output/deformity-bell-pepper_25.rf.a6bff7caf0b4ec9b957d0ae148cfe621.jpg (deflated 5%)\n",
            "  adding: content/peppers-output/deformity-bell-pepper_40_jpg.rf.90ec389112ca85911037915c7c209a6a.jpg (deflated 5%)\n",
            "  adding: content/peppers-output/bell-pepper-rot_256_jpg.rf.8685133b896697f72435c24676c7d309.jpg (deflated 8%)\n",
            "  adding: content/peppers-output/IMG_5965_JPG.rf.3b5548757ee8d819094c9a41c23889c3.jpg (deflated 6%)\n",
            "  adding: content/peppers-output/deformity-bell-pepper_97_jpg.rf.1a61e93f7e040171041be17d79c68409.jpg (deflated 5%)\n",
            "  adding: content/peppers-output/bell-pepper-rot_57_jpg.rf.ce9b67baa06ed0193e7fc27191c2bde0.jpg (deflated 12%)\n",
            "  adding: content/peppers-output/deformity-bell-pepper_147_jpg.rf.a167515c60c831586dff698344c8ec8f.jpg (deflated 20%)\n",
            "  adding: content/peppers-output/IMG_5403_JPG.rf.0409dcdcbcaf4addbfafaa2f40d91ff8.jpg (deflated 6%)\n",
            "  adding: content/peppers-output/bell-pepper-turning-red_315_jpg.rf.18a372c4f327f14801b6512bbc73041c.jpg (deflated 4%)\n",
            "  adding: content/peppers-output/IMG_5998_JPG.rf.9715f0fe9e1fb34b4c1e5a1acbadb765.jpg (deflated 6%)\n",
            "  adding: content/peppers-output/IMG_5351_JPG.rf.be3a30c3976fc6e8e6710fc16c6a7b42.jpg (deflated 5%)\n",
            "  adding: content/peppers-output/IMG_5990_JPG.rf.4595263fe26441d8f334f8865f245342.jpg (deflated 6%)\n",
            "  adding: content/peppers-output/bell-pepper-rot_194_jpg.rf.706a2fb9e65f9bbf68d552b14cb32697.jpg (deflated 4%)\n",
            "  adding: content/peppers-output/bell-pepper-rot_2_jpg.rf.9e7aa19bff9997ec7ca349a9ee7635da.jpg (deflated 7%)\n",
            "  adding: content/peppers-output/bell-pepper-rot_140_jpg.rf.519d3db57fa65ddd0fc08b26702763f8.jpg (deflated 4%)\n",
            "  adding: content/peppers-output/bell-pepper-turning-red_52_jpg.rf.085edb215af48d32ca0c68eabb2a6179.jpg (deflated 5%)\n",
            "  adding: content/peppers-output/bell-pepper-rot_67_jpg.rf.9b0dca151b693db50bedbeaec89463e1.jpg (deflated 5%)\n",
            "  adding: content/peppers-output/IMG_6013_JPG.rf.e40256c8f8dbe23801d5ce8de9df2b84.jpg (deflated 6%)\n",
            "  adding: content/peppers-output/IMG_5289_JPG.rf.d1f20c7cf98ad7d32614bc2a7cbdecdb.jpg (deflated 6%)\n",
            "  adding: content/peppers-output/IMG_5971_JPG.rf.62e240d362631cc23d12b4902e7a6817.jpg (deflated 6%)\n",
            "  adding: content/peppers-output/deformity-bell-pepper_89_jpg.rf.128cca3c1f12eefb892af76d81b5d9c9.jpg (deflated 5%)\n",
            "  adding: content/peppers-output/bell-pepper-rot_28_jpg.rf.1172f1da9831fc156811cf5f9bb44010.jpg (deflated 6%)\n",
            "  adding: content/peppers-output/IMG_5341_JPG.rf.b5187c685b0e4b46a6737adbce06b8c3.jpg (deflated 6%)\n",
            "  adding: content/peppers-output/IMG_5364_JPG.rf.3c1950cd45411a9367e7842524cb641a.jpg (deflated 6%)\n",
            "  adding: content/peppers-output/bell-pepper-turning-red_603.rf.3c8a5f9d0977400b94952b359171f855.jpg (deflated 6%)\n",
            "  adding: content/peppers-output/IMG_6048_JPG.rf.3e93cd525906c38f130a197442ce7679.jpg (deflated 6%)\n",
            "  adding: content/peppers-output/bell-pepper-turning-red_163_jpg.rf.09d21b443c11c94cc1e95acc97be5948.jpg (deflated 4%)\n",
            "  adding: content/peppers-output/IMG_5338_JPG.rf.41d6431dd1b02dd3bb37b0b5cbb3e237.jpg (deflated 6%)\n",
            "  adding: content/peppers-output/IMG_5396_JPG.rf.c9650a679ca83e5f030e8cb66ec30db1.jpg (deflated 6%)\n",
            "  adding: content/peppers-output/IMG_5361_JPG.rf.f16520058ec3afa943cf83623ef17cda.jpg (deflated 6%)\n",
            "  adding: content/peppers-output/deformity-bell-pepper_128_jpg.rf.412074a7f291f9ad51254af9355f9dcf.jpg (deflated 4%)\n",
            "  adding: content/peppers-output/deformity-bell-pepper_161_jpg.rf.9cec0bfac278a96c09301e21076f407d.jpg (deflated 6%)\n",
            "  adding: content/peppers-output/IMG_5944_JPG.rf.d2c43079e62c3cb720b3fad635a6045c.jpg (deflated 6%)\n",
            "  adding: content/peppers-output/IMG_5308_JPG.rf.31ddf7cc4a5d453bea3edbb3696696e2.jpg (deflated 7%)\n",
            "  adding: content/peppers-output/.ipynb_checkpoints/ (stored 0%)\n",
            "  adding: content/peppers-output/deformity-bell-pepper_69_jpg.rf.a09a380e17db8ac06299473a80bc9fc5.jpg (deflated 4%)\n",
            "  adding: content/peppers-output/bell-pepper-rot_80_jpg.rf.3acf8c505c235f98fa4313842dc61dc8.jpg (deflated 4%)\n",
            "  adding: content/peppers-output/IMG_5291_JPG.rf.27f4032e85c783bc15923c5cb7775d76.jpg (deflated 7%)\n",
            "  adding: content/peppers-output/bell-pepper-rot_156.rf.0656b029906722584cf598afd183c738.jpg (deflated 5%)\n",
            "  adding: content/peppers-output/bell-pepper-turning-red_372.rf.a9a5a75b823bffdfae71140d7c38aa53.jpg (deflated 4%)\n",
            "  adding: content/peppers-output/IMG_6008_JPG.rf.81fb2ee04d2b9efd5f1463a2471fbd90.jpg (deflated 6%)\n",
            "  adding: content/peppers-output/IMG_5328_JPG.rf.45d53d35c3a309ab99711058916c90fe.jpg (deflated 6%)\n",
            "  adding: content/peppers-output/deformity-bell-pepper_20_jpg.rf.fce34c1b98a6f07f8391e6c1d78342dd.jpg (deflated 5%)\n",
            "  adding: content/peppers-output/IMG_5290_JPG.rf.1a0022f5dad7372ead645c9fcb6911d7.jpg (deflated 7%)\n",
            "  adding: content/peppers-output/IMG_5937_JPG.rf.f691cce12467e272585e2fc93276b516.jpg (deflated 6%)\n",
            "  adding: content/peppers-output/bell-pepper-rot_14_jpg.rf.f6646e5ec15a6a1339e093c7fefbd39c.jpg (deflated 4%)\n",
            "  adding: content/peppers-output/bell-pepper-turning-red_211_jpg.rf.1f1a03a1c3fc3666f0f03bbb715c102d.jpg (deflated 6%)\n",
            "  adding: content/peppers-output/bell-pepper-turning-red_16_jpg.rf.38e99e518defea9c050d51ed67919b52.jpg (deflated 4%)\n",
            "  adding: content/peppers-output/deformity-bell-pepper_92_jpg.rf.3cbfdd6ec34e7ebc3dc06427771abb94.jpg (deflated 5%)\n",
            "  adding: content/peppers-output/bell-pepper-turning-red_24_jpg.rf.7fd13ca6b1aeb0c357016b82ed701b9c.jpg (deflated 4%)\n",
            "  adding: content/peppers-output/bell-pepper-rot_432_jpg.rf.ea42557ab6a87440ea3c05f8e32d04d0.jpg (deflated 4%)\n",
            "  adding: content/peppers-output/IMG_5354_JPG.rf.7f3d1d57daf278e4a3324eecaa6849fe.jpg (deflated 6%)\n",
            "  adding: content/peppers-output/IMG_5315_JPG.rf.99f0f752cf525824001f92cc6e384bac.jpg (deflated 6%)\n",
            "  adding: content/peppers-output/IMG_5939_JPG.rf.a2af03dae6e8aeddd7f3c1491e86355c.jpg (deflated 6%)\n",
            "  adding: content/peppers-output/IMG_5303_JPG.rf.9a5995e44cf4fd7cc38657c9084a28b4.jpg (deflated 7%)\n",
            "  adding: content/peppers-output/bell-pepper-turning-red_496_jpg.rf.15ea81a3cdccdced1dbad1d59c2fbdf6.jpg (deflated 4%)\n",
            "  adding: content/peppers-output/IMG_5350_JPG.rf.06984dd85ee4fe7d189dec468b4909a5.jpg (deflated 6%)\n",
            "  adding: content/peppers-output/IMG_5970_JPG.rf.e72a2dba6acf22689db8043a5c328a76.jpg (deflated 6%)\n",
            "  adding: content/peppers-output/IMG_5322_JPG.rf.11fbe1726cdb7675c07bc357d2e21a0e.jpg (deflated 6%)\n",
            "  adding: content/peppers-output/deformity-bell-pepper_1_jpg.rf.e6473c5d074cea886f0be537278bd881.jpg (deflated 5%)\n",
            "  adding: content/peppers-output/bell-pepper-rot_216_jpg.rf.beaa873cbca07bccd9c7d927c5df13d2.jpg (deflated 7%)\n",
            "  adding: content/peppers-output/bell-pepper-rot_38_jpg.rf.c64363c83fa8b5167e7755144cc98d81.jpg (deflated 8%)\n",
            "  adding: content/peppers-output/IMG_5981_JPG.rf.e607c9e7be93ddd1e816d8d27f245738.jpg (deflated 6%)\n",
            "  adding: content/peppers-output/IMG_5295_JPG.rf.991ed1d7bdb1a84dd79e69a41c68785a.jpg (deflated 7%)\n",
            "  adding: content/peppers-output/IMG_5301_JPG.rf.8a6c3b65763240377633a4fc39e73624.jpg (deflated 7%)\n",
            "  adding: content/peppers-output/bell-pepper-rot_118_jpg.rf.bdf985f04fc007bfe3bf0ca74247e3f9.jpg (deflated 6%)\n",
            "  adding: content/peppers-output/bell-pepper-rot_387_jpg.rf.e38da27d5d282e715013fa7d4e1aea57.jpg (deflated 4%)\n",
            "  adding: content/peppers-output/bell-pepper-turning-red_60_jpg.rf.5cd99c2850ba4d11efeebfcf0ad7bbca.jpg (deflated 4%)\n",
            "  adding: content/peppers-output/bell-pepper-turning-red_130_jpg.rf.ee44d66e55a2db56bd45127c2bf86a71.jpg (deflated 4%)\n",
            "  adding: content/peppers-output/bell-pepper-rot_54_jpg.rf.f19ae74080d18eedbf9aab5c3c2ebf64.jpg (deflated 4%)\n",
            "  adding: content/peppers-output/bell-pepper-turning-red_149_jpg.rf.0f3649f0e244946473e2503f8d54605a.jpg (deflated 5%)\n",
            "  adding: content/peppers-output/deformity-bell-pepper_33_jpg.rf.4559afdefcee3404c9de85ff4051eb98.jpg (deflated 5%)\n",
            "  adding: content/peppers-output/IMG_5983_JPG.rf.f04e12e5803dbfb14a6b8b79fa1cf10b.jpg (deflated 6%)\n",
            "  adding: content/peppers-output/IMG_5337_JPG.rf.9441af884c8e18512788e681519265b0.jpg (deflated 7%)\n",
            "  adding: content/peppers-output/bell-pepper-turning-red_307_jpg.rf.f5f46154b271e2b86c92d6d11e2fdb94.jpg (deflated 11%)\n",
            "  adding: content/peppers-output/bell-pepper-turning-red_570_jpg.rf.5edbd171d78607a99f2ae3fd6a8fefa4.jpg (deflated 8%)\n",
            "  adding: content/peppers-output/bell-pepper-turning-red_155.rf.342f0d7264733bd7c642d699d4184f60.jpg (deflated 4%)\n",
            "  adding: content/peppers-output/IMG_5934_JPG.rf.cbebb48e30eae112284a2180513c9a44.jpg (deflated 6%)\n",
            "  adding: content/peppers-output/deformity-bell-pepper_18_jpg.rf.766ab4a29a6352f17200c557bccfbcbd.jpg (deflated 14%)\n",
            "  adding: content/peppers-output/IMG_5945_JPG.rf.9f0a09dfe2bb1551b38d37494b3c4384.jpg (deflated 6%)\n",
            "  adding: content/peppers-output/deformity-bell-pepper_63_jpg.rf.cfb53cb2dc6202fccbeadbe3265a16ab.jpg (deflated 6%)\n",
            "  adding: content/peppers-output/bell-pepper-turning-red_553_jpg.rf.a7e9f267ec88094665d2688e00ade1aa.jpg (deflated 4%)\n",
            "  adding: content/peppers-output/bell-pepper-rot_63.rf.b6234ee827ce3d9350d14e669a8115f5.jpg (deflated 6%)\n",
            "  adding: content/peppers-output/deformity-bell-pepper_4_jpg.rf.a30fa6b19ff3fc16dd421b42dcd8e729.jpg (deflated 5%)\n",
            "  adding: content/peppers-output/deformity-bell-pepper_194_jpg.rf.77752d39b0a20f7b7c3563703c26b194.jpg (deflated 11%)\n",
            "  adding: content/peppers-output/IMG_6007_JPG.rf.f3d7701a14b7cfabc4ea929495b2ec8f.jpg (deflated 6%)\n",
            "  adding: content/peppers-output/bell-pepper-rot_32_jpg.rf.a3469d2f56ac34563af76c9135732f1f.jpg (deflated 4%)\n",
            "  adding: content/peppers-output/bell-pepper-rot_115_jpg.rf.c111bc7ee30b9ce55248229e2a22878b.jpg (deflated 4%)\n",
            "  adding: content/peppers-output/bell-pepper-turning-red_291_jpg.rf.ffb4907202cad02c12483126e659afa3.jpg (deflated 5%)\n",
            "  adding: content/peppers-output/IMG_5975_JPG.rf.84007d53401192a0e4a271e904962bb8.jpg (deflated 6%)\n",
            "  adding: content/peppers-output/IMG_5311_JPG.rf.6666fdbf078d40e6b677f5433467f939.jpg (deflated 7%)\n",
            "  adding: content/peppers-output/bell-pepper-turning-red_143_jpg.rf.4d8d367b758397c45fb8bb5368282c15.jpg (deflated 4%)\n",
            "  adding: content/peppers-output/IMG_5984_JPG.rf.421c9756f10bf093da191fdd17b0a03d.jpg (deflated 6%)\n",
            "  adding: content/peppers-output/IMG_5382_JPG.rf.941fbdc333a9b563089e4fefba6d7311.jpg (deflated 6%)\n",
            "  adding: content/peppers-output/bell-pepper-rot_162_jpg.rf.3ad06da505d642e4c0c9b508b335f49f.jpg (deflated 5%)\n",
            "  adding: content/peppers-output/IMG_5307_JPG.rf.dc8203cf3a4f3580d610284d838181b1.jpg (deflated 7%)\n",
            "  adding: content/peppers-output/IMG_5310_JPG.rf.8dc2b9fe6e5fb048a2316be6fe29bc71.jpg (deflated 7%)\n",
            "  adding: content/peppers-output/deformity-bell-pepper_3_jpg.rf.3998d9ca1c6afe33f050f4687e086c87.jpg (deflated 5%)\n",
            "  adding: content/peppers-output/IMG_5397_JPG.rf.5c96e615d39f516bed6e6f6b67dccbc1.jpg (deflated 6%)\n",
            "  adding: content/peppers-output/IMG_5942_JPG.rf.c02f7da9d1deb28ce6216329ce9451d6.jpg (deflated 6%)\n",
            "  adding: content/peppers-output/bell-pepper-rot_324_jpg.rf.6a46a13c7b52991f7689652444f6c586.jpg (deflated 4%)\n",
            "  adding: content/peppers-output/IMG_6012_JPG.rf.4227cb1950d01db35b38d22ec70f99c9.jpg (deflated 6%)\n",
            "  adding: content/peppers-output/IMG_5283_JPG.rf.45bbe3880561b14d206d9bb76cf1edfd.jpg (deflated 6%)\n",
            "  adding: content/peppers-output/IMG_5374_JPG.rf.9257604f39e39533fa5fec6d291067c3.jpg (deflated 6%)\n",
            "  adding: content/peppers-output/bell-pepper-rot_172_jpg.rf.00c246b065b4ecc79079a157c55711e1.jpg (deflated 10%)\n",
            "  adding: content/peppers-output/bell-pepper-turning-red_171_jpg.rf.ae64b6c3b82bf7c09f6a61510d18255c.jpg (deflated 4%)\n",
            "  adding: content/peppers-output/IMG_5987_JPG.rf.03567f5ed5b140c6378b12cebd554f05.jpg (deflated 6%)\n",
            "  adding: content/peppers-output/IMG_5375_JPG.rf.13c3651671a2135f5923df7e5533c47d.jpg (deflated 6%)\n",
            "  adding: content/peppers-output/IMG_5978_JPG.rf.7e2c5cde668a1539de51389fc1d1af49.jpg (deflated 6%)\n",
            "  adding: content/peppers-output/IMG_5938_JPG.rf.ed92919182e708deb53198a41d44ce00.jpg (deflated 6%)\n",
            "  adding: content/peppers-output/bell-pepper-rot_84_jpg.rf.ba0daa77b23f5dacc8db4c80b323a62b.jpg (deflated 4%)\n",
            "  adding: content/peppers-output/IMG_5329_JPG.rf.89da270204fd10a9da2dbad4bbb5aab7.jpg (deflated 6%)\n",
            "  adding: content/peppers-output/bell-pepper-rot_9_jpg.rf.1c16555e2da86677dc353349cc71bed1.jpg (deflated 5%)\n",
            "  adding: content/peppers-output/IMG_5941_JPG.rf.0241849d396cd5b9a70f08c5111bcd5a.jpg (deflated 6%)\n",
            "  adding: content/peppers-output/bell-pepper-rot_88_jpg.rf.59c5fc208362900d4c7df0194063b92b.jpg (deflated 5%)\n",
            "  adding: content/peppers-output/deformity-bell-pepper_182.rf.ec68217c68659bfcb034108103600357.jpg (deflated 5%)\n",
            "  adding: content/peppers-output/IMG_5421_JPG.rf.7cf5100efed9a45600236c9366c5b547.jpg (deflated 7%)\n",
            "  adding: content/peppers-output/IMG_5399_JPG.rf.c8b24688e66faceea140c955716f145b.jpg (deflated 6%)\n",
            "  adding: content/peppers-output/IMG_5948_JPG.rf.3b7a3f5ed6481884b1e0db77e97e85ee.jpg (deflated 6%)\n",
            "  adding: content/peppers-output/bell-pepper-turning-red_146_jpg.rf.68e6f6648a9ba0b30fd2c48e8475de94.jpg (deflated 5%)\n",
            "  adding: content/peppers-output/deformity-bell-pepper_124_jpg.rf.17ecbb3599b55168fa31f946f58024cc.jpg (deflated 5%)\n",
            "  adding: content/peppers-output/deformity-bell-pepper_261_jpg.rf.a00f0522ab5414353d44c323bcf4e134.jpg (deflated 4%)\n",
            "  adding: content/peppers-output/bell-pepper-rot_151_jpg.rf.03afba39055f7dfd28e8d83de9dafe1a.jpg (deflated 6%)\n",
            "  adding: content/peppers-output/bell-pepper-rot_166_jpg.rf.57d2376911484c56b2529484da059575.jpg (deflated 5%)\n",
            "  adding: content/peppers-output/deformity-bell-pepper_14_jpg.rf.feeeee9f208906d3a7390e5bcbbc56aa.jpg (deflated 4%)\n",
            "  adding: content/peppers-output/bell-pepper-turning-red_595_jpg.rf.ad3653ad6bbee77d3301dce2e962f135.jpg (deflated 4%)\n",
            "  adding: content/peppers-output/IMG_5385_JPG.rf.92446b7705181872c1c3735bf348c04b.jpg (deflated 6%)\n",
            "  adding: content/peppers-output/bell-pepper-turning-red_476_jpg.rf.8a2ea42e07d8a2aa3c57e7c2bd86a3f3.jpg (deflated 6%)\n",
            "  adding: content/peppers-output/IMG_6045_JPG.rf.60391fa6664c313e87e1d73960f5d4a4.jpg (deflated 6%)\n",
            "  adding: content/peppers-output/IMG_5306_JPG.rf.1e7308cc53ff039d81ea1240704e0fc4.jpg (deflated 7%)\n",
            "  adding: content/peppers-output/bell-pepper-turning-red_132.rf.1d30e093ab944863574328a4cb203b4c.jpg (deflated 6%)\n",
            "  adding: content/peppers-output/deformity-bell-pepper_64_jpg.rf.a0d7c2864cbd232cc1320785f6e6c2af.jpg (deflated 3%)\n",
            "  adding: content/peppers-output/IMG_5293_JPG.rf.37eac758c76da7d2adb33eafb1e23df6.jpg (deflated 7%)\n",
            "  adding: content/peppers-output/deformity-bell-pepper_198_jpg.rf.6f82ac2e5b8fcc300434fe7afab600e9.jpg (deflated 8%)\n",
            "  adding: content/peppers-output/bell-pepper-turning-red_37_jpg.rf.fd7dff369b9b16c5c34216122d3c2503.jpg (deflated 3%)\n",
            "  adding: content/peppers-output/IMG_6050_JPG.rf.3cd5bb22b4db935c897b02ebe08e0f2e.jpg (deflated 6%)\n",
            "  adding: content/peppers-output/bell-pepper-turning-red_399_jpg.rf.5b3d94180cfaec6a5199d46d83034082.jpg (deflated 6%)\n",
            "  adding: content/peppers-output/IMG_5357_JPG.rf.20ed2ea2745f55650c30635035e462b1.jpg (deflated 6%)\n",
            "  adding: content/peppers-output/IMG_5305_JPG.rf.6480fa102062624489102f4a4820ec38.jpg (deflated 7%)\n",
            "  adding: content/peppers-output/IMG_5372_JPG.rf.3b65aed8f6e8820b0e5a6bedf8190ce7.jpg (deflated 6%)\n",
            "  adding: content/peppers-output/IMG_5386_JPG.rf.26b2c4bfecd89dccc62a3777f3a43d52.jpg (deflated 6%)\n",
            "  adding: content/peppers-output/bell-pepper-turning-red_237_jpg.rf.750841d14463d70bc4cf53d26c9ca228.jpg (deflated 4%)\n",
            "  adding: content/peppers-output/bell-pepper-turning-red_4.rf.5d2ec1fcafa423e5c01b5eeff8719e73.jpg (deflated 4%)\n",
            "  adding: content/peppers-output/IMG_5330_JPG.rf.627b677a07e9bf979939191e3a9baae6.jpg (deflated 6%)\n",
            "  adding: content/peppers-output/IMG_5377_JPG.rf.e5d462466a7b6373e762459d5b9f32d5.jpg (deflated 6%)\n",
            "  adding: content/peppers-output/IMG_5331_JPG.rf.241afed0e173de79344c8ee75f800f6d.jpg (deflated 6%)\n",
            "  adding: content/peppers-output/IMG_5326_JPG.rf.3af35e10b74122ee75f23052af5fb089.jpg (deflated 6%)\n",
            "  adding: content/peppers-output/bell-pepper-turning-red_82_jpg.rf.1479bb9c18d100c5e9935a343d3130f0.jpg (deflated 4%)\n",
            "  adding: content/peppers-output/bell-pepper-turning-red_32_jpg.rf.89ec591c81c7bc91f8f1baf0dc704329.jpg (deflated 5%)\n",
            "  adding: content/peppers-output/bell-pepper-rot_25_jpg.rf.30683f819974570ab9b7b27f1550e9ff.jpg (deflated 4%)\n",
            "  adding: content/peppers-output/deformity-bell-pepper_190_jpg.rf.a98003243ecb444620dbd5ebd1edbebc.jpg (deflated 4%)\n",
            "  adding: content/peppers-output/IMG_5418_JPG.rf.98622b7532bd5c6ce4b472450a42a045.jpg (deflated 7%)\n",
            "  adding: content/peppers-output/bell-pepper-turning-red_77_jpg.rf.8408c0d6676ae18bcc8ea8eb7996e951.jpg (deflated 4%)\n",
            "  adding: content/peppers-output/bell-pepper-turning-red_92_jpg.rf.83ab9874b6fa071f346c8a41caa2e2cf.jpg (deflated 4%)\n",
            "  adding: content/peppers-output/IMG_5935_JPG.rf.c151e5a149f59ee3bbe061845dbbe1de.jpg (deflated 6%)\n",
            "  adding: content/peppers-output/bell-pepper-turning-red_532.rf.2f61b1a2c811df914e7ba50625e56f98.jpg (deflated 10%)\n",
            "  adding: content/peppers-output/bell-pepper-turning-red_562_jpg.rf.a71fcbb5168337d754f9f6ca9cb3d9e3.jpg (deflated 4%)\n",
            "  adding: content/peppers-output/bell-pepper-turning-red_71_jpg.rf.29f4a0a943e8fabcf1649f43f050478e.jpg (deflated 5%)\n",
            "  adding: content/peppers-output/deformity-bell-pepper_129_jpg.rf.5113219b8f09efff0b59be163de5d17f.jpg (deflated 4%)\n",
            "  adding: content/peppers-output/IMG_5335_JPG.rf.3259abcb49c6568366c6cf7deabef932.jpg (deflated 6%)\n",
            "  adding: content/peppers-output/bell-pepper-rot_137_jpg.rf.3161d0c318ee518d882e0f377f95b4c0.jpg (deflated 6%)\n",
            "  adding: content/peppers-output/deformity-bell-pepper_99_jpg.rf.b0bb17c6b0a4aefb035073ca80708dff.jpg (deflated 4%)\n",
            "  adding: content/peppers-output/IMG_5353_JPG.rf.edd1b6ffacd83d597ab58d649773025a.jpg (deflated 7%)\n",
            "  adding: content/peppers-output/IMG_5297_JPG.rf.1fb8da0061f96d1c067f14cc55b579cd.jpg (deflated 7%)\n",
            "  adding: content/peppers-output/bell-pepper-turning-red_46_jpg.rf.97ee6c5c1128a5a7804b0f2e75e92f63.jpg (deflated 4%)\n",
            "  adding: content/peppers-output/bell-pepper-turning-red_184.rf.b2828704d6d01c82d0dc6adeb847ad9a.jpg (deflated 4%)\n",
            "  adding: content/peppers-output/bell-pepper-turning-red_8_jpg.rf.55bc0cb1641a94254fa51c739ce6a1bb.jpg (deflated 9%)\n",
            "  adding: content/peppers-output/IMG_5355_JPG.rf.edc43b5b7b23f0b3bed2a505cf497d19.jpg (deflated 6%)\n",
            "  adding: content/peppers-output/IMG_5381_JPG.rf.5ca3a952917146d70079643fb615fa7c.jpg (deflated 6%)\n",
            "  adding: content/peppers-output/IMG_6033_JPG.rf.d5c604f435f447de755bb234196462a6.jpg (deflated 6%)\n",
            "  adding: content/peppers-output/deformity-bell-pepper_212_jpg.rf.af95b17f8920409a01d152adc108e784.jpg (deflated 4%)\n",
            "  adding: content/peppers-output/bell-pepper-rot_60_jpg.rf.3ba32b5ea4ebc4b570785f20db028ff5.jpg (deflated 4%)\n",
            "  adding: content/peppers-output/bell-pepper-rot_289_jpg.rf.94cff7f9005e3c9e8988e37806b974b5.jpg (deflated 5%)\n",
            "  adding: content/peppers-output/IMG_5401_JPG.rf.5248dcd439a6bc52f1516951731c71a1.jpg (deflated 6%)\n",
            "  adding: content/peppers-output/deformity-bell-pepper_19_jpg.rf.6d608eced15ce6227fa1d3ddf6bc5a9f.jpg (deflated 6%)\n",
            "  adding: content/peppers-output/bell-pepper-rot_266_jpg.rf.f3953632b0567818ee9318c301f0b125.jpg (deflated 5%)\n",
            "  adding: content/peppers-output/IMG_5976_JPG.rf.f1fce81f6ee12be3c037f0f53f547a23.jpg (deflated 6%)\n",
            "  adding: content/peppers-output/bell-pepper-rot_274_jpg.rf.bd7bcccc274e6ef916b0f3c26ccb721f.jpg (deflated 10%)\n",
            "  adding: content/peppers-output/IMG_5339_JPG.rf.a5f63cd9092fcc9efa51efaeb49d53e6.jpg (deflated 6%)\n",
            "  adding: content/peppers-output/bell-pepper-turning-red_99_jpg.rf.bca5980442284af1a133b99c57219d1d.jpg (deflated 4%)\n",
            "  adding: content/peppers-output/bell-pepper-turning-red_43_jpg.rf.9207713693038cd94f1e60ea3bc23308.jpg (deflated 4%)\n",
            "  adding: content/peppers-output/bell-pepper-turning-red_111.rf.20c9af82ad4a0893198ae732be2282e3.jpg (deflated 4%)\n",
            "  adding: content/peppers-output/bell-pepper-rot_0_jpg.rf.c08b786bfb2bc42fcd91192e8be5866d.jpg (deflated 11%)\n",
            "  adding: content/peppers-output/IMG_5304_JPG.rf.74f758320c3f8354d73170f8d8bd827c.jpg (deflated 6%)\n",
            "  adding: content/peppers-output/bell-pepper-turning-red_28_jpg.rf.fe5f8dbfb2ce5cd4d90fd3c2f02d9c58.jpg (deflated 4%)\n",
            "  adding: content/peppers-output/deformity-bell-pepper_158_jpg.rf.c0da86d030066e53e1ae761b550b166f.jpg (deflated 4%)\n",
            "  adding: content/peppers-output/deformity-bell-pepper_10_jpg.rf.82504e9007f41465381c2d718802aa56.jpg (deflated 4%)\n",
            "  adding: content/peppers-output/IMG_5317_JPG.rf.3df330e5474d85d63e95f5fdf67508eb.jpg (deflated 7%)\n",
            "  adding: content/peppers-output/images_jpg.rf.9632fa01bad21ad9a5882d2f47e53072.jpg (deflated 4%)\n",
            "  adding: content/peppers-output/bell-pepper-rot_288_jpg.rf.f0f5c87fb73e643e265dc820e1107fdb.jpg (deflated 4%)\n",
            "  adding: content/peppers-output/bell-pepper-rot_273_jpg.rf.94b435d0ee1cb436929f9b19b2a7f692.jpg (deflated 4%)\n",
            "  adding: content/peppers-output/IMG_5294_JPG.rf.7bc18b3bcc965657da2b570602ec76b4.jpg (deflated 7%)\n",
            "  adding: content/peppers-output/bell-pepper-rot_12_jpg.rf.c296b15e024c3921239021c2746e562e.jpg (deflated 4%)\n",
            "  adding: content/peppers-output/deformity-bell-pepper_104_jpg.rf.ac4a7d33252601d36bba56cbac6f7af8.jpg (deflated 3%)\n",
            "  adding: content/peppers-output/bell-pepper-turning-red_372_jpg.rf.60eabcdd0cbe031b4cab4d516dd55ff6.jpg (deflated 3%)\n",
            "  adding: content/peppers-output/IMG_5931_JPG.rf.228f28fe8ff0a3e9b16109d27f2bf702.jpg (deflated 6%)\n",
            "  adding: content/peppers-output/IMG_5954_JPG.rf.22a0271e5a98e5875ba46bff7a95b6e3.jpg (deflated 6%)\n",
            "  adding: content/peppers-output/deformity-bell-pepper_16_jpg.rf.cc9e692ce8c6c00dbf826c3c92d666b2.jpg (deflated 8%)\n",
            "  adding: content/peppers-output/IMG_5398_JPG.rf.40c609672b939048d8a3c16991ddf2e8.jpg (deflated 6%)\n",
            "  adding: content/peppers-output/bell-pepper-turning-red_5_jpg.rf.e8fde1a5688cb72201d27db2a4443be4.jpg (deflated 4%)\n",
            "  adding: content/peppers-output/IMG_5298_JPG.rf.700c99bce15db7f0b3ebf155f222e5ed.jpg (deflated 6%)\n",
            "  adding: content/peppers-output/bell-pepper-rot_296_jpg.rf.99695ec8029c41270e99db0b0be63d40.jpg (deflated 6%)\n",
            "  adding: content/peppers-output/bell-pepper-turning-red_98_jpg.rf.5457c745d13fedea35bc0b43d46073dc.jpg (deflated 4%)\n",
            "  adding: content/peppers-output/bell-pepper-rot_44_jpg.rf.6c03800ab26c2a67142054cf03a0cc06.jpg (deflated 5%)\n",
            "  adding: content/peppers-output/deformity-bell-pepper_50_jpg.rf.913abe84e9e04704bd4c40d11dddf70d.jpg (deflated 4%)\n",
            "  adding: content/peppers-output/bell-pepper-turning-red_304_jpg.rf.07dd2b3928138a3419bacc07a5746b19.jpg (deflated 16%)\n",
            "  adding: content/peppers-output/bell-pepper-turning-red_59_jpg.rf.712502414fe4ebe98210b078f205efd6.jpg (deflated 4%)\n",
            "  adding: content/peppers-output/bell-pepper-rot_56.rf.021fc9dec98ab53d4315e2e8ad47558d.jpg (deflated 4%)\n",
            "  adding: content/peppers-output/bell-pepper-rot_99_jpg.rf.fabae44392a3521996d7ca623dd666b1.jpg (deflated 5%)\n",
            "  adding: content/peppers-output/deformity-bell-pepper_134_jpg.rf.0f7b3a6b9b0c2fc0c1b308b89ddd907a.jpg (deflated 4%)\n",
            "  adding: content/peppers-output/IMG_6002_JPG.rf.32647e91459ba6cd0031b73921c95f16.jpg (deflated 6%)\n",
            "  adding: content/peppers-output/IMG_6044_JPG.rf.51cbe9eab451f771acad48d040e24aa6.jpg (deflated 6%)\n",
            "  adding: content/peppers-output/bell-pepper-turning-red_91.rf.715526b03ac0c9209f79e781cbdf7494.jpg (deflated 4%)\n",
            "  adding: content/peppers-output/deformity-bell-pepper_178_jpg.rf.fbef8503572c1cd1cf7d36728407a490.jpg (deflated 4%)\n",
            "  adding: content/peppers-output/IMG_5952_JPG.rf.66aa291b90813ed1eb611ea4df373bad.jpg (deflated 6%)\n",
            "  adding: content/peppers-output/bell-pepper-turning-red_338_jpg.rf.8273b64fd8375e62d228e1c0147770f6.jpg (deflated 4%)\n",
            "  adding: content/peppers-output/bell-pepper-turning-red_162_jpg.rf.c609950c3fa054729930ca57d4e2f524.jpg (deflated 5%)\n",
            "  adding: content/peppers-output/deformity-bell-pepper_43_jpg.rf.eeee151ea6404319c45626c6337f9320.jpg (deflated 5%)\n",
            "  adding: content/peppers-output/IMG_5367_JPG.rf.93cabfe4e1e4f9bb3bc9d6ff9d92d39f.jpg (deflated 6%)\n",
            "  adding: content/peppers-output/bell-pepper-turning-red_150_jpg.rf.04ee0e6d71205d3e6c1d2a1be7c081ed.jpg (deflated 5%)\n",
            "  adding: content/peppers-output/deformity-bell-pepper_76_jpg.rf.c5afc143069ad7de1bbb77f3415a0e50.jpg (deflated 4%)\n",
            "  adding: content/peppers-output/bell-pepper-rot_271_jpg.rf.cfe49cc0bac3d864707a9085184af6c2.jpg (deflated 5%)\n",
            "  adding: content/peppers-output/bell-pepper-turning-red_502_jpg.rf.2f2daf0efa3a3223e1346eb364850e27.jpg (deflated 5%)\n",
            "  adding: content/peppers-output/deformity-bell-pepper_138_jpg.rf.9cc8e7bedad96c54f90910eb1b0657e7.jpg (deflated 4%)\n",
            "  adding: content/peppers-output/deformity-bell-pepper_57_jpg.rf.69f87aad35a399a50a5ed9d366ec33f8.jpg (deflated 4%)\n"
          ]
        }
      ]
    },
    {
      "cell_type": "markdown",
      "source": [
        "THIS DUPLICATE REMOVAL WORKS"
      ],
      "metadata": {
        "id": "4oh59Jbz4dKo"
      }
    },
    {
      "cell_type": "code",
      "source": [
        "import imagehash\n",
        "from PIL import Image\n",
        "import numpy as np\n",
        "import os\n",
        "import cv2\n",
        "from os import path\n",
        "\n",
        "!rm -rf /content/peppers-output\n",
        "%cd /content\n",
        "%mkdir peppers-output\n",
        "\n",
        "def alpharemover(image):\n",
        "  if image.mode != 'RGBA':\n",
        "    return image\n",
        "  canvas = Image.new('RGBA', image.size, (255,255,255,255))\n",
        "  canvas.paste(image, mask=image)\n",
        "  return canvas.convert('RGB')\n",
        "\n",
        "def with_ztransform_preprocess(hashfunc, hash_size=4):\n",
        "  def function(path):\n",
        "    image = alpharemover(Image.open(path))\n",
        "    image = image.convert(\"L\").resize((hash_size, hash_size), Image.ANTIALIAS)\n",
        "    data = image.getdata()\n",
        "    quantiles = np.arange(100)\n",
        "    quantiles_values = np.percentile(data, quantiles)\n",
        "    zdata = (np.interp(data, quantiles_values, quantiles) / 100 * 255).astype(np.uint8)\n",
        "    image.putdata(zdata)\n",
        "    return hashfunc(image)\n",
        "  return function\n",
        "\n",
        "hasher = with_ztransform_preprocess(imagehash.dhash, hash_size = 5)\n",
        "input_folder = r\"/content/peppers-dataset\"\n",
        "output_folder = r\"/content/peppers-output\"\n",
        "\n",
        "def remove_duplicates(hash_algorithm,directory):\n",
        "  image_list = os.listdir(directory)\n",
        "  hash_set = set()\n",
        "  for im_name in image_list:\n",
        "    image_path = path.join(directory,im_name)\n",
        "    image_hash = hash_algorithm(image_path)\n",
        "    if image_hash not in hash_set:\n",
        "      hash_set.add(image_hash)\n",
        "      image = cv2.imread(image_path)\n",
        "      cv2.imwrite(os.path.join(output_folder,im_name),image)\n",
        "\n",
        "remove_duplicates(hasher,\"/content/peppers-dataset\")"
      ],
      "metadata": {
        "id": "gxNnkhBQzk7D",
        "outputId": "846db82c-5c6c-4e5c-9826-a8e2515d3913",
        "colab": {
          "base_uri": "https://localhost:8080/"
        }
      },
      "execution_count": 5,
      "outputs": [
        {
          "output_type": "stream",
          "name": "stdout",
          "text": [
            "/content\n"
          ]
        },
        {
          "output_type": "stream",
          "name": "stderr",
          "text": [
            "<ipython-input-5-098ff97d2ab1>:22: DeprecationWarning: ANTIALIAS is deprecated and will be removed in Pillow 10 (2023-07-01). Use LANCZOS or Resampling.LANCZOS instead.\n",
            "  image = image.convert(\"L\").resize((hash_size, hash_size), Image.ANTIALIAS)\n"
          ]
        }
      ]
    },
    {
      "cell_type": "code",
      "source": [
        "os.chdir(\"/content/peppers-dataset\")\n",
        "!rm -rf `find -type d -name .ipynb_checkpoints`"
      ],
      "metadata": {
        "id": "Krp3QWSruZY_"
      },
      "execution_count": 4,
      "outputs": []
    },
    {
      "cell_type": "code",
      "source": [
        "!rm -rf /content/peppers-output"
      ],
      "metadata": {
        "id": "nOqE3TA01FbI"
      },
      "execution_count": 32,
      "outputs": []
    },
    {
      "cell_type": "code",
      "source": [
        "%cd /content/peppers-dataset\n",
        "!ls -l | wc -l"
      ],
      "metadata": {
        "id": "htN2UlGl1wdl",
        "outputId": "0da3cc17-484f-41ff-acbc-e421e7e88fb9",
        "colab": {
          "base_uri": "https://localhost:8080/"
        }
      },
      "execution_count": 35,
      "outputs": [
        {
          "output_type": "stream",
          "name": "stdout",
          "text": [
            "529\n"
          ]
        }
      ]
    },
    {
      "cell_type": "code",
      "source": [
        "%cd /content/peppers-output\n",
        "!ls -l | wc -l\n"
      ],
      "metadata": {
        "id": "c35C_ktq2P1G",
        "outputId": "df83c3f1-fd6c-4a21-b1d8-624e86b28ca8",
        "colab": {
          "base_uri": "https://localhost:8080/"
        }
      },
      "execution_count": 6,
      "outputs": [
        {
          "output_type": "stream",
          "name": "stdout",
          "text": [
            "/content/peppers-output\n",
            "507\n"
          ]
        }
      ]
    },
    {
      "cell_type": "code",
      "source": [
        "%cd /content/peppers-output\n",
        "!pwd\n",
        "!ls -d bell-pepper-rot_0*"
      ],
      "metadata": {
        "id": "97jI_O5d2Sib",
        "outputId": "b7bc822d-3882-48ab-fa9e-241f79957b67",
        "colab": {
          "base_uri": "https://localhost:8080/"
        }
      },
      "execution_count": 54,
      "outputs": [
        {
          "output_type": "stream",
          "name": "stdout",
          "text": [
            "/content/peppers-output\n",
            "/content/peppers-output\n",
            "bell-pepper-rot_0_jpg.rf.c08b786bfb2bc42fcd91192e8be5866d.jpg\n"
          ]
        }
      ]
    },
    {
      "cell_type": "code",
      "source": [],
      "metadata": {
        "id": "lXE8gaqR3QU-"
      },
      "execution_count": null,
      "outputs": []
    }
  ]
}