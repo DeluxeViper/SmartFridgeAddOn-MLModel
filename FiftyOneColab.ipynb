{
  "nbformat": 4,
  "nbformat_minor": 0,
  "metadata": {
    "colab": {
      "provenance": [],
      "authorship_tag": "ABX9TyMN8GnjUAARfRS572xgOrW8",
      "include_colab_link": true
    },
    "kernelspec": {
      "name": "python3",
      "display_name": "Python 3"
    },
    "language_info": {
      "name": "python"
    }
  },
  "cells": [
    {
      "cell_type": "markdown",
      "metadata": {
        "id": "view-in-github",
        "colab_type": "text"
      },
      "source": [
        "<a href=\"https://colab.research.google.com/github/DeluxeViper/SmartFridgeAddOn-MLModel/blob/main/FiftyOneColab.ipynb\" target=\"_parent\"><img src=\"https://colab.research.google.com/assets/colab-badge.svg\" alt=\"Open In Colab\"/></a>"
      ]
    },
    {
      "cell_type": "code",
      "source": [
        "from google.colab import drive\n",
        "drive.mount('/content/gdrive')"
      ],
      "metadata": {
        "colab": {
          "base_uri": "https://localhost:8080/"
        },
        "id": "bGVDBCevb_fp",
        "outputId": "7746d3b0-aa34-4f8b-af70-908ee3099ab0"
      },
      "execution_count": 4,
      "outputs": [
        {
          "output_type": "stream",
          "name": "stdout",
          "text": [
            "Mounted at /content/gdrive\n"
          ]
        }
      ]
    },
    {
      "cell_type": "code",
      "source": [
        "# Download roboflow dataset\n",
        "!pip install roboflow\n",
        "\n",
        "from roboflow import Roboflow\n",
        "rf = Roboflow(api_key=\"jLi1pe42ogpV2Fkvtsno\")\n",
        "project = rf.workspace(\"deluxeviper\").project(\"orange-apple-fridge-ingredients\")\n",
        "dataset = project.version(2).download(\"yolov7\")"
      ],
      "metadata": {
        "colab": {
          "base_uri": "https://localhost:8080/"
        },
        "id": "ClGatKXHcGDD",
        "outputId": "83816400-beb1-444a-97d8-eba71cd5d351"
      },
      "execution_count": 12,
      "outputs": [
        {
          "output_type": "stream",
          "name": "stdout",
          "text": [
            "Looking in indexes: https://pypi.org/simple, https://us-python.pkg.dev/colab-wheels/public/simple/\n",
            "Requirement already satisfied: roboflow in /usr/local/lib/python3.8/dist-packages (0.2.29)\n",
            "Requirement already satisfied: certifi==2022.12.7 in /usr/local/lib/python3.8/dist-packages (from roboflow) (2022.12.7)\n",
            "Requirement already satisfied: idna==2.10 in /usr/local/lib/python3.8/dist-packages (from roboflow) (2.10)\n",
            "Requirement already satisfied: opencv-python>=4.1.2 in /usr/local/lib/python3.8/dist-packages (from roboflow) (4.6.0.66)\n",
            "Requirement already satisfied: Pillow>=7.1.2 in /usr/local/lib/python3.8/dist-packages (from roboflow) (7.1.2)\n",
            "Requirement already satisfied: requests in /usr/local/lib/python3.8/dist-packages (from roboflow) (2.25.1)\n",
            "Requirement already satisfied: kiwisolver>=1.3.1 in /usr/local/lib/python3.8/dist-packages (from roboflow) (1.4.4)\n",
            "Requirement already satisfied: wget in /usr/local/lib/python3.8/dist-packages (from roboflow) (3.2)\n",
            "Requirement already satisfied: cycler==0.10.0 in /usr/local/lib/python3.8/dist-packages (from roboflow) (0.10.0)\n",
            "Requirement already satisfied: six in /usr/local/lib/python3.8/dist-packages (from roboflow) (1.15.0)\n",
            "Requirement already satisfied: urllib3>=1.26.6 in /usr/local/lib/python3.8/dist-packages (from roboflow) (1.26.14)\n",
            "Requirement already satisfied: requests-toolbelt in /usr/local/lib/python3.8/dist-packages (from roboflow) (0.10.1)\n",
            "Requirement already satisfied: tqdm>=4.41.0 in /usr/local/lib/python3.8/dist-packages (from roboflow) (4.64.1)\n",
            "Requirement already satisfied: chardet==4.0.0 in /usr/local/lib/python3.8/dist-packages (from roboflow) (4.0.0)\n",
            "Requirement already satisfied: numpy>=1.18.5 in /usr/local/lib/python3.8/dist-packages (from roboflow) (1.21.6)\n",
            "Requirement already satisfied: PyYAML>=5.3.1 in /usr/local/lib/python3.8/dist-packages (from roboflow) (6.0)\n",
            "Requirement already satisfied: python-dateutil in /usr/local/lib/python3.8/dist-packages (from roboflow) (2.8.2)\n",
            "Requirement already satisfied: matplotlib in /usr/local/lib/python3.8/dist-packages (from roboflow) (3.2.2)\n",
            "Requirement already satisfied: python-dotenv in /usr/local/lib/python3.8/dist-packages (from roboflow) (0.21.1)\n",
            "Requirement already satisfied: pyparsing==2.4.7 in /usr/local/lib/python3.8/dist-packages (from roboflow) (2.4.7)\n",
            "loading Roboflow workspace...\n",
            "loading Roboflow project...\n",
            "Downloading Dataset Version Zip in Orange&Apple---Fridge-Ingredients-2 to yolov7pytorch: 100% [190491477 / 190491477] bytes\n"
          ]
        },
        {
          "output_type": "stream",
          "name": "stderr",
          "text": [
            "Extracting Dataset Version Zip to Orange&Apple---Fridge-Ingredients-2 in yolov7pytorch:: 100%|██████████| 10752/10752 [00:04<00:00, 2264.73it/s]\n"
          ]
        }
      ]
    },
    {
      "cell_type": "code",
      "source": [
        "!pip install fiftyone"
      ],
      "metadata": {
        "id": "yeW-Pe34lpIC"
      },
      "execution_count": null,
      "outputs": []
    },
    {
      "cell_type": "code",
      "source": [
        "# Delete datasets\n",
        "import fiftyone as fo\n",
        "import fiftyone.zoo as foz\n",
        "\n",
        "print(fo.list_datasets())\n",
        "\n",
        "fo.delete_datasets(glob_patt=\"*\")\n",
        "print(fo.list_datasets())\n"
      ],
      "metadata": {
        "colab": {
          "base_uri": "https://localhost:8080/"
        },
        "id": "N76VOCB0lsYU",
        "outputId": "e592a9ae-1c0d-4d9a-c697-5a98d6a21132"
      },
      "execution_count": 24,
      "outputs": [
        {
          "output_type": "stream",
          "name": "stdout",
          "text": [
            "['apple-orange-dataset']\n",
            "[]\n"
          ]
        }
      ]
    },
    {
      "cell_type": "code",
      "source": [
        "import os\n",
        "import shutil\n",
        "\n",
        "# Moves files from yolov7 to yolov5 format\n",
        "\n",
        "source_dir = '/content/Orange&Apple---Fridge-Ingredients-2/train/labels'\n",
        "target_dir = '/content/Orange&Apple---Fridge-Ingredients-2/labels/train'\n",
        "    \n",
        "file_names = os.listdir(source_dir)\n",
        "    \n",
        "for file_name in file_names:\n",
        "    shutil.move(os.path.join(source_dir, file_name), target_dir)"
      ],
      "metadata": {
        "id": "7Q6-mdkEneJV"
      },
      "execution_count": 21,
      "outputs": []
    },
    {
      "cell_type": "code",
      "execution_count": 25,
      "metadata": {
        "colab": {
          "base_uri": "https://localhost:8080/",
          "height": 1000
        },
        "id": "MKXjTMieUvQ9",
        "outputId": "f82a9f26-d58c-4446-a37c-bf65195c7e6e"
      },
      "outputs": [
        {
          "output_type": "stream",
          "name": "stdout",
          "text": [
            " 100% |███████████████| 4451/4451 [11.4s elapsed, 0s remaining, 486.7 samples/s]      \n"
          ]
        },
        {
          "output_type": "stream",
          "name": "stderr",
          "text": [
            "INFO:eta.core.utils: 100% |███████████████| 4451/4451 [11.4s elapsed, 0s remaining, 486.7 samples/s]      \n"
          ]
        },
        {
          "output_type": "stream",
          "name": "stdout",
          "text": [
            "Name:        apple-orange-dataset\n",
            "Media type:  image\n",
            "Num samples: 4451\n",
            "Persistent:  False\n",
            "Tags:        []\n",
            "Sample fields:\n",
            "    id:           fiftyone.core.fields.ObjectIdField\n",
            "    filepath:     fiftyone.core.fields.StringField\n",
            "    tags:         fiftyone.core.fields.ListField(fiftyone.core.fields.StringField)\n",
            "    metadata:     fiftyone.core.fields.EmbeddedDocumentField(fiftyone.core.metadata.ImageMetadata)\n",
            "    ground_truth: fiftyone.core.fields.EmbeddedDocumentField(fiftyone.core.labels.Detections)\n",
            "[<Sample: {\n",
            "    'id': '63d4a74c50d50df623e871db',\n",
            "    'media_type': 'image',\n",
            "    'filepath': '/content/Orange&Apple---Fridge-Ingredients-2/images/train/000000-rgb_png_jpg.rf.8219fe5f73f8b19d192f43e28a78de67.jpg',\n",
            "    'tags': ['train'],\n",
            "    'metadata': None,\n",
            "    'ground_truth': <Detections: {\n",
            "        'detections': [\n",
            "            <Detection: {\n",
            "                'id': '63d4a74c50d50df623e871da',\n",
            "                'attributes': {},\n",
            "                'tags': [],\n",
            "                'label': 'Orange',\n",
            "                'bounding_box': [0.6390625000000001, 0.173046875, 0.2359375, 0.21640625],\n",
            "                'mask': None,\n",
            "                'confidence': None,\n",
            "                'index': None,\n",
            "            }>,\n",
            "        ],\n",
            "    }>,\n",
            "}>, <Sample: {\n",
            "    'id': '63d4a74c50d50df623e871de',\n",
            "    'media_type': 'image',\n",
            "    'filepath': '/content/Orange&Apple---Fridge-Ingredients-2/images/train/000000-rgb_png_jpg.rf.9f3179c13066a0259f5e01f2a801b6e9.jpg',\n",
            "    'tags': ['train'],\n",
            "    'metadata': None,\n",
            "    'ground_truth': <Detections: {\n",
            "        'detections': [\n",
            "            <Detection: {\n",
            "                'id': '63d4a74c50d50df623e871dc',\n",
            "                'attributes': {},\n",
            "                'tags': [],\n",
            "                'label': 'Orange',\n",
            "                'bounding_box': [0.6390625000000001, 0.173046875, 0.2359375, 0.21640625],\n",
            "                'mask': None,\n",
            "                'confidence': None,\n",
            "                'index': None,\n",
            "            }>,\n",
            "        ],\n",
            "    }>,\n",
            "}>, <Sample: {\n",
            "    'id': '63d4a74c50d50df623e871df',\n",
            "    'media_type': 'image',\n",
            "    'filepath': '/content/Orange&Apple---Fridge-Ingredients-2/images/train/000000-rgb_png_jpg.rf.d842bd47852acc550eefb240a184ed07.jpg',\n",
            "    'tags': ['train'],\n",
            "    'metadata': None,\n",
            "    'ground_truth': <Detections: {\n",
            "        'detections': [\n",
            "            <Detection: {\n",
            "                'id': '63d4a74c50d50df623e871dd',\n",
            "                'attributes': {},\n",
            "                'tags': [],\n",
            "                'label': 'Orange',\n",
            "                'bounding_box': [0.6390625000000001, 0.173046875, 0.2359375, 0.21640625],\n",
            "                'mask': None,\n",
            "                'confidence': None,\n",
            "                'index': None,\n",
            "            }>,\n",
            "        ],\n",
            "    }>,\n",
            "}>]\n"
          ]
        },
        {
          "output_type": "display_data",
          "data": {
            "text/plain": [
              "<IPython.core.display.HTML object>"
            ],
            "text/html": [
              "\n",
              "<style>\n",
              "\n",
              "@import url(\"https://fonts.googleapis.com/css2?family=Palanquin&display=swap\");\n",
              "\n",
              "#focontainer-0c42cf58-5609-41d2-8b62-276da0540d2c {\n",
              "  position: relative;\n",
              "  height: px;\n",
              "  display: block !important;\n",
              "}\n",
              "#foactivate-0c42cf58-5609-41d2-8b62-276da0540d2c {\n",
              "  font-weight: bold;\n",
              "  cursor: pointer;\n",
              "  font-size: 24px;\n",
              "  border-radius: 3px;\n",
              "  text-align: center;\n",
              "  padding: 0.5em;\n",
              "  color: rgb(255, 255, 255);\n",
              "  font-family: \"Palanquin\", sans-serif;\n",
              "  position: absolute;\n",
              "  left: 50%;\n",
              "  top: 50%;\n",
              "  width: 160px;\n",
              "  margin-left: -80px;\n",
              "  margin-top: -23px;\n",
              "  background: hsla(210,11%,15%, 0.8);\n",
              "  border: none;\n",
              "}\n",
              "#foactivate-0c42cf58-5609-41d2-8b62-276da0540d2c:focus {\n",
              "  outline: none;\n",
              "}\n",
              "#fooverlay-0c42cf58-5609-41d2-8b62-276da0540d2c {\n",
              "  width: 100%;\n",
              "  height: 100%;\n",
              "  background: hsla(208, 7%, 46%, 0.7);\n",
              "  position: absolute;\n",
              "  top: 0;\n",
              "  left: 0;\n",
              "  display: none;\n",
              "  cursor: pointer;\n",
              "}\n",
              "</style>\n",
              "<div id=\"focontainer-0c42cf58-5609-41d2-8b62-276da0540d2c\" style=\"display: none;\">\n",
              "   <div id=\"fooverlay-0c42cf58-5609-41d2-8b62-276da0540d2c\">\n",
              "      <button id=\"foactivate-0c42cf58-5609-41d2-8b62-276da0540d2c\" >Activate</button>\n",
              "   </div>\n",
              "</div>"
            ]
          },
          "metadata": {}
        }
      ],
      "source": [
        "import fiftyone as fo\n",
        "import fiftyone.zoo as foz\n",
        "\n",
        "# A name for the dataset\n",
        "name = \"apple-orange-dataset\"\n",
        "\n",
        "dataset_dir = \"/content/Orange&Apple---Fridge-Ingredients-2\"\n",
        "\n",
        "# The splits to load\n",
        "splits = [\"train\"]\n",
        "\n",
        "# Load the dataset, using tags to mark the samples in each split\n",
        "dataset = fo.Dataset(name)\n",
        "for split in splits:\n",
        "    dataset.add_dir(\n",
        "        dataset_dir=dataset_dir,\n",
        "        dataset_type=fo.types.YOLOv5Dataset,\n",
        "        split=split,\n",
        "        tags=split,\n",
        ")\n",
        "\n",
        "# View summary info about the dataset\n",
        "print(dataset)\n",
        "\n",
        "# Print the first few samples in the dataset\n",
        "print(dataset.head())\n",
        "\n",
        "# # fo.delete_datasets(glob_patt=)\n",
        "\n",
        "# # The directory containing the dataset to import\n",
        "# dataset_dir = \"/content/Orange&Apple---Fridge-Ingredients-2\"\n",
        "\n",
        "# # The type of the dataset being imported\n",
        "# dataset_type = fo.types.COCODetectionDataset  # for example\n",
        "\n",
        "# dataset = fo.Dataset.from_dir(\n",
        "#     dataset_dir=dataset_dir,\n",
        "#     dataset_type=dataset_type,\n",
        "#     split=\"train\",\n",
        "#     labels_path=\"/content/Orange&Apple---Fridge-Ingredients-2/train/_annotations.coco.json\",\n",
        "#     name=name,\n",
        "#     included_id=True\n",
        "# )\n",
        "\n",
        "# dataset = foz.load_zoo_dataset(\"quickstart\")\n",
        "session = fo.launch_app(dataset)"
      ]
    },
    {
      "cell_type": "code",
      "source": [],
      "metadata": {
        "id": "lD9_aoePU2ob"
      },
      "execution_count": null,
      "outputs": []
    }
  ]
}